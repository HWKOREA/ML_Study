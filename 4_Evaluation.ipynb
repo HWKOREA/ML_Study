{
 "cells": [
  {
   "cell_type": "code",
   "execution_count": 17,
   "metadata": {},
   "outputs": [],
   "source": [
    "### 4. 평가 (Evaluation) ###\n",
    "\n",
    "# 머신러닝의 과정"
   ]
  },
  {
   "cell_type": "markdown",
   "metadata": {},
   "source": [
    "![Alt text](image.png)"
   ]
  },
  {
   "cell_type": "code",
   "execution_count": 18,
   "metadata": {},
   "outputs": [],
   "source": [
    "# 회귀의 성능 평가\n",
    "# - 오차 평균 기반\n",
    "\n",
    "# 분류의 성능 평가\n",
    "# - 정확도 (Accuracy)\n",
    "# - 오차 행렬 (Confusion Matrix)\n",
    "# - 정밀도 (Precision)\n",
    "# - 재현율 (Recall)\n",
    "# - F1 스코어\n",
    "# - ROC AUC"
   ]
  },
  {
   "cell_type": "code",
   "execution_count": 19,
   "metadata": {},
   "outputs": [],
   "source": [
    "# 정확도 (Accuracy)\n",
    "\n",
    "# 실제 데이터에서 예측 데이터가 얼마나 같은지 판단하는 지표\n",
    "# 이진 분류의 경우 데이터 구성에 따라 머신 러닝 모델의 성능을 왜곡할 수 있음"
   ]
  },
  {
   "cell_type": "markdown",
   "metadata": {},
   "source": [
    "![Alt text](image-1.png)"
   ]
  },
  {
   "cell_type": "code",
   "execution_count": 20,
   "metadata": {},
   "outputs": [
    {
     "name": "stdout",
     "output_type": "stream",
     "text": [
      "0.7821229050279329\n"
     ]
    }
   ],
   "source": [
    "# 왜곡의 예\n",
    "\n",
    "import numpy as np\n",
    "import pandas as pd\n",
    "from sklearn.preprocessing import LabelEncoder\n",
    "from sklearn.model_selection import train_test_split\n",
    "from sklearn.metrics import accuracy_score\n",
    "from sklearn.base import BaseEstimator\n",
    "\n",
    "def fillna(df):\n",
    "    df['Age'].fillna(df['Age'].mean(), inplace = True)\n",
    "    df['Cabin'].fillna('N', inplace = True)\n",
    "    df['Embarked'].fillna('N', inplace = True)\n",
    "    df['Fare'].fillna(0, inplace = True)\n",
    "    return df\n",
    "\n",
    "def drop_features(df):\n",
    "    df.drop(['PassengerId', 'Name', 'Ticket'], axis = 1, inplace = True)\n",
    "    return df\n",
    "    \n",
    "def format_features(df):\n",
    "    df['Cabin'] = df['Cabin'].str[:1]\n",
    "    features = ['Cabin', 'Sex', 'Embarked']\n",
    "    for feature in features:\n",
    "        le = LabelEncoder()\n",
    "        le = le.fit(df[feature])\n",
    "        df[feature] = le.transform(df[feature])\n",
    "    return df\n",
    "    \n",
    "def transform_features(df):\n",
    "    df = fillna(df)\n",
    "    df = drop_features(df)\n",
    "    df = format_features(df)\n",
    "    return df\n",
    "\n",
    "class MyDummyClassifier(BaseEstimator):\n",
    "    def fit(self, x, y = None):\n",
    "        pass\n",
    "    \n",
    "    def predict(self, x):\n",
    "        pred = np.zeros((x.shape[0], 1))\n",
    "        for i in range(x.shape[0]):\n",
    "            if x['Sex'].iloc[i] == 1:\n",
    "                pred[i] = 0\n",
    "            else:\n",
    "                pred[i] = 1\n",
    "        return pred\n",
    "    \n",
    "titanic_df = pd.read_csv('C:/woogi/KWU/3-2/Machine_Learning/titanic.csv')\n",
    "y_titanic_df = titanic_df['Survived']\n",
    "x_titanic_df = titanic_df.drop('Survived', axis = 1)\n",
    "x_titanic_df = transform_features(x_titanic_df)\n",
    "x_train, x_test, y_train, y_test = train_test_split(x_titanic_df, y_titanic_df, test_size = 0.2)\n",
    "\n",
    "myclf = MyDummyClassifier()\n",
    "myclf.fit(x_train, y_train)\n",
    "\n",
    "mypredictions = myclf.predict(x_test)\n",
    "print(accuracy_score(y_test, mypredictions))"
   ]
  },
  {
   "cell_type": "code",
   "execution_count": 21,
   "metadata": {},
   "outputs": [
    {
     "name": "stdout",
     "output_type": "stream",
     "text": [
      "(450,)\n",
      "0    401\n",
      "1     49\n",
      "Name: count, dtype: int64\n",
      "0.8911111111111111\n"
     ]
    }
   ],
   "source": [
    "# 앞의 예시에서 단순히 Sex 가 1이면 죽음 (0), 아니면 생존 (1)으로 처리하여도\n",
    "# 정확도가 0.7 ~ 0.8 의 높은 값을 얻음\n",
    "\n",
    "# 레이블 값 분포가 불균형한 경우 적합한 평가 지표가 아님\n",
    "# - 100개의 데이터 중 90개는레이블이 0, 10개는 1인 경우\n",
    "# - 예측 결과를 무조건 0으로 반환해도 정확도가 90%\n",
    "\n",
    "# 왜곡의 예\n",
    "# - MNIST 데이터 중 레이블 7만 True, 나머지는 False\n",
    "#   -> 이진 분류 문제로 변경\n",
    "#   -> 전체 데이터의 10%는 True, 90%는 False\n",
    "# - 예측 값을 무조건 0으로 반환해도 정확도가 90%\n",
    "\n",
    "from sklearn.datasets import load_digits\n",
    "\n",
    "class MyFakeClassifier(BaseEstimator):\n",
    "    def fit(self, x, y):\n",
    "        pass\n",
    "    \n",
    "    def predict(self, x):\n",
    "        return np.zeros((x.shape[0], 1), dtype = int)\n",
    "    \n",
    "digits = load_digits()\n",
    "y = (digits.target == 7).astype(int)\n",
    "\n",
    "x_train, x_test, y_train, y_test = train_test_split(digits.data, y)\n",
    "print(y_test.shape)\n",
    "print(pd.Series(y_test).value_counts())\n",
    "\n",
    "clf = MyFakeClassifier()\n",
    "clf.fit(x_train, y_train)\n",
    "\n",
    "predictions = clf.predict(x_test)\n",
    "print(accuracy_score(y_test, predictions))"
   ]
  },
  {
   "cell_type": "code",
   "execution_count": 22,
   "metadata": {},
   "outputs": [],
   "source": [
    "# 오차 행렬 (Confusion Matrix)\n",
    "\n",
    "# 예측 오류가 얼마인지와 어떤 유형의 예측 오류가 발생하는 지를 나타냄\n",
    "\n",
    "# - TN : Negative(0) 으로 예측했는데 그게 맞는 경우\n",
    "# - FP : Positive(1) 으로 예측했는데 그게 틀린 경우\n",
    "# - FN : Negative(0) 으로 예측했는데 그게 틀린 경우\n",
    "# - TP : Positive(1) 으로 예측했는데 그게 맞는 경우"
   ]
  },
  {
   "cell_type": "markdown",
   "metadata": {},
   "source": [
    "![Alt text](image-2.png)"
   ]
  },
  {
   "cell_type": "code",
   "execution_count": 23,
   "metadata": {},
   "outputs": [
    {
     "name": "stdout",
     "output_type": "stream",
     "text": [
      "[[401   0]\n",
      " [ 49   0]]\n"
     ]
    }
   ],
   "source": [
    "from sklearn.metrics import confusion_matrix\n",
    "print(confusion_matrix(y_test, predictions))"
   ]
  },
  {
   "cell_type": "markdown",
   "metadata": {},
   "source": [
    "![Alt text](image-3.png)"
   ]
  },
  {
   "cell_type": "code",
   "execution_count": 24,
   "metadata": {},
   "outputs": [],
   "source": [
    "# 정밀도 (Precision)와 재현율 (Recall)\n",
    "\n",
    "# Positive 데이터 세트의 예측 성능에 좀 더 초점을 맞춘 평가 지표"
   ]
  },
  {
   "cell_type": "markdown",
   "metadata": {},
   "source": [
    "![Alt text](image-4.png)"
   ]
  },
  {
   "cell_type": "code",
   "execution_count": 25,
   "metadata": {},
   "outputs": [],
   "source": [
    "# 정밀도 (Precision)\n",
    "# - Positive 로 예측한 것 중 맞게 예측한 것의 비율\n",
    "# - 양성 예측도 (Positive 예측 성능을 더운 정밀하게 측정)라고도 함\n",
    "# - 실제로는 negative 인데 Positive 로 잘못 판단하면 큰 일 나는 경우에 적용\n",
    "# - (예) 스팸 메일 판단 모델\n",
    "#        Positive 를 Negative 로 판단하면 불편함 정도\n",
    "#        Negative 를 Positive 로 판단하면 업무 차질"
   ]
  },
  {
   "cell_type": "code",
   "execution_count": 26,
   "metadata": {},
   "outputs": [],
   "source": [
    "# 재현율 (Recall)\n",
    "# - 정답이 Positive 인 것 중 맞게 예측한 것의 비율\n",
    "# - 민감도 (Sensitivity), TPR (True Positive Rate) 라고도 함\n",
    "# - 실제로는 Positive 인데 Negative 로 잘못 판단하면 큰 일 나는 경우에 적용\n",
    "# - (예) 암 판단 모델:\n",
    "#        Positive 를 Negative 로 판단하면 생명에 큰 일\n",
    "#        Negative 를 Positive 로 판단하면 재검사 정도\n",
    "# - (예) 금융 사기 적발 모뎅:\n",
    "#        Positive 를 Negative 로 판단하면 회사에 큰 손해\n",
    "#        Negative 를 Positive 로 판단하면 재확인 정도"
   ]
  },
  {
   "cell_type": "code",
   "execution_count": 27,
   "metadata": {},
   "outputs": [],
   "source": [
    "# 정밀도 vs 재현뮬\n",
    "# - 분자는 같음\n",
    "# - 정밀도는 FP 를 낮추는 데 초점\n",
    "# - 재현율은 FN 을 낮추는 데 초점\n",
    "# - 정밀도와 재현율 모두 높은 것이 좋음\n",
    "# - 둘 중 하나만 높고 하나만 낮으면 안 좋음"
   ]
  },
  {
   "cell_type": "markdown",
   "metadata": {},
   "source": [
    "![Alt text](image-5.png)"
   ]
  },
  {
   "cell_type": "code",
   "execution_count": 28,
   "metadata": {},
   "outputs": [
    {
     "name": "stdout",
     "output_type": "stream",
     "text": [
      "[[92 21]\n",
      " [22 44]]\n",
      "0.7597765363128491\n",
      "0.676923076923077\n",
      "0.6666666666666666\n"
     ]
    }
   ],
   "source": [
    "import numpy as np\n",
    "import pandas as pd\n",
    "from sklearn.preprocessing import LabelEncoder\n",
    "from sklearn.model_selection import train_test_split\n",
    "from sklearn.metrics import accuracy_score\n",
    "\n",
    "df = pd.read_csv('C:/woogi/KWU/3-2/Machine_Learning/titanic.csv')\n",
    "\n",
    "df.drop(['PassengerId', 'Name', 'Ticket'], axis = 1, inplace = True)\n",
    "\n",
    "df['Age'].fillna(df['Age'].mean(), inplace = True)\n",
    "df['Cabin'].fillna('N', inplace = True)\n",
    "df['Embarked'].fillna('N', inplace = True)\n",
    "df['Cabin'] = df['Cabin'].str[:1]\n",
    "\n",
    "encoder = LabelEncoder()\n",
    "df['Cabin'] = encoder.fit_transform(df['Cabin'])\n",
    "df['Sex'] = encoder.fit_transform(df['Sex'])\n",
    "df['Embarked'] = encoder.fit_transform(df['Embarked'])\n",
    "\n",
    "y = df['Survived']\n",
    "x = df.drop('Survived', axis = 1)\n",
    "x_train, x_test, y_train, y_test = train_test_split(x, y, test_size = 0.2)\n",
    "\n",
    "from sklearn.metrics import confusion_matrix\n",
    "from sklearn.metrics import precision_score, recall_score\n",
    "from sklearn.linear_model import LogisticRegression\n",
    "\n",
    "lr = LogisticRegression(solver = 'liblinear')\n",
    "lr.fit(x_train, y_train)\n",
    "y_hat = lr.predict(x_test)\n",
    "\n",
    "print(confusion_matrix(y_test, y_hat))\n",
    "print(accuracy_score(y_test, y_hat))\n",
    "print(precision_score(y_test, y_hat))\n",
    "print(recall_score(y_test, y_hat))\n"
   ]
  },
  {
   "cell_type": "code",
   "execution_count": 29,
   "metadata": {},
   "outputs": [
    {
     "name": "stdout",
     "output_type": "stream",
     "text": [
      "[[0.90511278 0.09488722 0.        ]\n",
      " [0.75260822 0.24739178 0.        ]\n",
      " [0.09603074 0.90396926 1.        ]\n",
      " [0.76005289 0.23994711 0.        ]\n",
      " [0.54421808 0.45578192 0.        ]\n",
      " [0.91165773 0.08834227 0.        ]\n",
      " [0.59250586 0.40749414 0.        ]\n",
      " [0.86382347 0.13617653 0.        ]\n",
      " [0.69149042 0.30850958 0.        ]\n",
      " [0.24363097 0.75636903 1.        ]\n",
      " [0.07846903 0.92153097 1.        ]\n",
      " [0.89601741 0.10398259 0.        ]\n",
      " [0.71540354 0.28459646 0.        ]\n",
      " [0.60800313 0.39199687 0.        ]\n",
      " [0.84894629 0.15105371 0.        ]\n",
      " [0.07548864 0.92451136 1.        ]\n",
      " [0.84722639 0.15277361 0.        ]\n",
      " [0.86671965 0.13328035 0.        ]\n",
      " [0.15080791 0.84919209 1.        ]\n",
      " [0.67279512 0.32720488 0.        ]\n",
      " [0.7472538  0.2527462  0.        ]\n",
      " [0.35761882 0.64238118 1.        ]\n",
      " [0.78874731 0.21125269 0.        ]\n",
      " [0.78890949 0.21109051 0.        ]\n",
      " [0.71540354 0.28459646 0.        ]\n",
      " [0.66078419 0.33921581 0.        ]\n",
      " [0.77802632 0.22197368 0.        ]\n",
      " [0.66336866 0.33663134 0.        ]\n",
      " [0.71428687 0.28571313 0.        ]\n",
      " [0.93682963 0.06317037 0.        ]\n",
      " [0.18018436 0.81981564 1.        ]\n",
      " [0.78383196 0.21616804 0.        ]\n",
      " [0.9171773  0.0828227  0.        ]\n",
      " [0.53632226 0.46367774 0.        ]\n",
      " [0.73170574 0.26829426 0.        ]\n",
      " [0.28200572 0.71799428 1.        ]\n",
      " [0.41136887 0.58863113 1.        ]\n",
      " [0.89614117 0.10385883 0.        ]\n",
      " [0.75002344 0.24997656 0.        ]\n",
      " [0.87745353 0.12254647 0.        ]\n",
      " [0.87447915 0.12552085 0.        ]\n",
      " [0.09357967 0.90642033 1.        ]\n",
      " [0.30942601 0.69057399 1.        ]\n",
      " [0.61539418 0.38460582 0.        ]\n",
      " [0.38621424 0.61378576 1.        ]\n",
      " [0.56047005 0.43952995 0.        ]\n",
      " [0.34939653 0.65060347 1.        ]\n",
      " [0.28573777 0.71426223 1.        ]\n",
      " [0.88623436 0.11376564 0.        ]\n",
      " [0.35385656 0.64614344 1.        ]\n",
      " [0.45069859 0.54930141 1.        ]\n",
      " [0.18043228 0.81956772 1.        ]\n",
      " [0.98430661 0.01569339 0.        ]\n",
      " [0.88371158 0.11628842 0.        ]\n",
      " [0.88605013 0.11394987 0.        ]\n",
      " [0.79029241 0.20970759 0.        ]\n",
      " [0.33813985 0.66186015 1.        ]\n",
      " [0.29272645 0.70727355 1.        ]\n",
      " [0.94540541 0.05459459 0.        ]\n",
      " [0.85972476 0.14027524 0.        ]\n",
      " [0.86054854 0.13945146 0.        ]\n",
      " [0.30889623 0.69110377 1.        ]\n",
      " [0.83117152 0.16882848 0.        ]\n",
      " [0.87417446 0.12582554 0.        ]\n",
      " [0.75544715 0.24455285 0.        ]\n",
      " [0.36438418 0.63561582 1.        ]\n",
      " [0.41374595 0.58625405 1.        ]\n",
      " [0.87483617 0.12516383 0.        ]\n",
      " [0.09023621 0.90976379 1.        ]\n",
      " [0.3960617  0.6039383  1.        ]\n",
      " [0.94010266 0.05989734 0.        ]\n",
      " [0.86790867 0.13209133 0.        ]\n",
      " [0.33813985 0.66186015 1.        ]\n",
      " [0.8711096  0.1288904  0.        ]\n",
      " [0.84483579 0.15516421 0.        ]\n",
      " [0.25125409 0.74874591 1.        ]\n",
      " [0.37219944 0.62780056 1.        ]\n",
      " [0.31103786 0.68896214 1.        ]\n",
      " [0.14432052 0.85567948 1.        ]\n",
      " [0.8861607  0.1138393  0.        ]\n",
      " [0.21446926 0.78553074 1.        ]\n",
      " [0.08213436 0.91786564 1.        ]\n",
      " [0.92495612 0.07504388 0.        ]\n",
      " [0.0550576  0.9449424  1.        ]\n",
      " [0.84843365 0.15156635 0.        ]\n",
      " [0.94938975 0.05061025 0.        ]\n",
      " [0.93479574 0.06520426 0.        ]\n",
      " [0.33823859 0.66176141 1.        ]\n",
      " [0.84065483 0.15934517 0.        ]\n",
      " [0.88982608 0.11017392 0.        ]\n",
      " [0.74113542 0.25886458 0.        ]\n",
      " [0.04387054 0.95612946 1.        ]\n",
      " [0.36431022 0.63568978 1.        ]\n",
      " [0.78522466 0.21477534 0.        ]\n",
      " [0.88532912 0.11467088 0.        ]\n",
      " [0.1513274  0.8486726  1.        ]\n",
      " [0.30469461 0.69530539 1.        ]\n",
      " [0.86093486 0.13906514 0.        ]\n",
      " [0.82141248 0.17858752 0.        ]\n",
      " [0.5742867  0.4257133  0.        ]\n",
      " [0.09510559 0.90489441 1.        ]\n",
      " [0.8711096  0.1288904  0.        ]\n",
      " [0.86767766 0.13232234 0.        ]\n",
      " [0.63557143 0.36442857 0.        ]\n",
      " [0.48559491 0.51440509 1.        ]\n",
      " [0.94640493 0.05359507 0.        ]\n",
      " [0.18297183 0.81702817 1.        ]\n",
      " [0.90407693 0.09592307 0.        ]\n",
      " [0.78138831 0.21861169 0.        ]\n",
      " [0.07953706 0.92046294 1.        ]\n",
      " [0.8518853  0.1481147  0.        ]\n",
      " [0.25762032 0.74237968 1.        ]\n",
      " [0.70087089 0.29912911 0.        ]\n",
      " [0.72308233 0.27691767 0.        ]\n",
      " [0.87107527 0.12892473 0.        ]\n",
      " [0.25547524 0.74452476 1.        ]\n",
      " [0.85488777 0.14511223 0.        ]\n",
      " [0.88592255 0.11407745 0.        ]\n",
      " [0.43557714 0.56442286 1.        ]\n",
      " [0.85276823 0.14723177 0.        ]\n",
      " [0.32327849 0.67672151 1.        ]\n",
      " [0.56681631 0.43318369 0.        ]\n",
      " [0.78072801 0.21927199 0.        ]\n",
      " [0.25321885 0.74678115 1.        ]\n",
      " [0.81639397 0.18360603 0.        ]\n",
      " [0.06642611 0.93357389 1.        ]\n",
      " [0.32931822 0.67068178 1.        ]\n",
      " [0.19897772 0.80102228 1.        ]\n",
      " [0.362409   0.637591   1.        ]\n",
      " [0.95985961 0.04014039 0.        ]\n",
      " [0.89275457 0.10724543 0.        ]\n",
      " [0.53813817 0.46186183 0.        ]\n",
      " [0.31105742 0.68894258 1.        ]\n",
      " [0.07055871 0.92944129 1.        ]\n",
      " [0.09744942 0.90255058 1.        ]\n",
      " [0.87711276 0.12288724 0.        ]\n",
      " [0.08131841 0.91868159 1.        ]\n",
      " [0.91367751 0.08632249 0.        ]\n",
      " [0.88323641 0.11676359 0.        ]\n",
      " [0.68966555 0.31033445 0.        ]\n",
      " [0.37132076 0.62867924 1.        ]\n",
      " [0.81639167 0.18360833 0.        ]\n",
      " [0.33813985 0.66186015 1.        ]\n",
      " [0.21869442 0.78130558 1.        ]\n",
      " [0.87447915 0.12552085 0.        ]\n",
      " [0.84991221 0.15008779 0.        ]\n",
      " [0.93900747 0.06099253 0.        ]\n",
      " [0.31743309 0.68256691 1.        ]\n",
      " [0.66420179 0.33579821 0.        ]\n",
      " [0.59073099 0.40926901 0.        ]\n",
      " [0.8861607  0.1138393  0.        ]\n",
      " [0.52886067 0.47113933 0.        ]\n",
      " [0.8565809  0.1434191  0.        ]\n",
      " [0.88586563 0.11413437 0.        ]\n",
      " [0.9642055  0.0357945  0.        ]\n",
      " [0.33745486 0.66254514 1.        ]\n",
      " [0.88912321 0.11087679 0.        ]\n",
      " [0.76644232 0.23355768 0.        ]\n",
      " [0.67642558 0.32357442 0.        ]\n",
      " [0.88191626 0.11808374 0.        ]\n",
      " [0.67758113 0.32241887 0.        ]\n",
      " [0.85326616 0.14673384 0.        ]\n",
      " [0.04749379 0.95250621 1.        ]\n",
      " [0.9064906  0.0935094  0.        ]\n",
      " [0.79571687 0.20428313 0.        ]\n",
      " [0.8744474  0.1255526  0.        ]\n",
      " [0.4750252  0.5249748  1.        ]\n",
      " [0.84874842 0.15125158 0.        ]\n",
      " [0.90615995 0.09384005 0.        ]\n",
      " [0.29910757 0.70089243 1.        ]\n",
      " [0.90494931 0.09505069 0.        ]\n",
      " [0.29153338 0.70846662 1.        ]\n",
      " [0.69929064 0.30070936 0.        ]\n",
      " [0.84065483 0.15934517 0.        ]\n",
      " [0.36326303 0.63673697 1.        ]\n",
      " [0.85652292 0.14347708 0.        ]\n",
      " [0.82251796 0.17748204 0.        ]\n",
      " [0.04653168 0.95346832 1.        ]\n",
      " [0.8089783  0.1910217  0.        ]]\n"
     ]
    }
   ],
   "source": [
    "# 트레이드오프 (Trade - Off)\n",
    "# - 정밀도 / 재현율이 강조되어야 하는 경우\n",
    "#   -> 분류의 임곗값을 조정하면 바뀔 수 있음\n",
    "# - 한 쪽을 높이면 다른 쪽이 떨어질 수 있음\n",
    "# - predict_proba() : 테스트 데이터에 대해 예측 확률 반반\n",
    "\n",
    "proba = lr.predict_proba(x_test)\n",
    "result = np.concatenate([proba, y_hat.reshape(-1, 1)], axis = 1)\n",
    "print(result)"
   ]
  },
  {
   "cell_type": "code",
   "execution_count": 30,
   "metadata": {},
   "outputs": [
    {
     "name": "stdout",
     "output_type": "stream",
     "text": [
      "[[0. 0. 1.]\n",
      " [1. 0. 0.]\n",
      " [0. 0. 1.]]\n"
     ]
    }
   ],
   "source": [
    "# Binarizer 클래스\n",
    "# - fit_transform() : 지정된 문턱 값보다 크면 1, 아니면 0 으로 반환\n",
    "\n",
    "from sklearn.preprocessing import Binarizer\n",
    "\n",
    "tmp = [[1, -1, 2],\n",
    "       [2, 0, 0],\n",
    "       [0, 1.1, 1.2]]\n",
    "binarizer = Binarizer(threshold = 1.1)\n",
    "print(binarizer.fit_transform(tmp))"
   ]
  },
  {
   "cell_type": "code",
   "execution_count": 31,
   "metadata": {},
   "outputs": [
    {
     "name": "stdout",
     "output_type": "stream",
     "text": [
      "[[92 21]\n",
      " [22 44]]\n",
      "0.7597765363128491\n",
      "0.676923076923077\n",
      "0.6666666666666666\n"
     ]
    }
   ],
   "source": [
    "pr = proba[:, 1].reshape(-1, 1)\n",
    "\n",
    "y_hat = Binarizer(threshold = 0.5).fit_transform(pr)\n",
    "print(confusion_matrix(y_test, y_hat))\n",
    "print(accuracy_score(y_test, y_hat))\n",
    "print(precision_score(y_test, y_hat))\n",
    "print(recall_score(y_test, y_hat))"
   ]
  },
  {
   "cell_type": "code",
   "execution_count": 32,
   "metadata": {},
   "outputs": [
    {
     "name": "stdout",
     "output_type": "stream",
     "text": [
      "[[84 29]\n",
      " [21 45]]\n",
      "0.7206703910614525\n",
      "0.6081081081081081\n",
      "0.6818181818181818\n",
      "[[88 25]\n",
      " [22 44]]\n",
      "0.7374301675977654\n",
      "0.6376811594202898\n",
      "0.6666666666666666\n",
      "[[92 21]\n",
      " [22 44]]\n",
      "0.7597765363128491\n",
      "0.676923076923077\n",
      "0.6666666666666666\n",
      "[[95 18]\n",
      " [22 44]]\n",
      "0.776536312849162\n",
      "0.7096774193548387\n",
      "0.6666666666666666\n",
      "[[96 17]\n",
      " [24 42]]\n",
      "0.770949720670391\n",
      "0.711864406779661\n",
      "0.6363636363636364\n"
     ]
    }
   ],
   "source": [
    "for th in [0.4, 0.45, 0.5, 0.55, 0.6]:\n",
    "    y_hat = Binarizer(threshold = th).fit_transform(pr)\n",
    "    print(confusion_matrix(y_test, y_hat))\n",
    "    print(accuracy_score(y_test, y_hat))\n",
    "    print(precision_score(y_test, y_hat))\n",
    "    print(recall_score(y_test, y_hat))"
   ]
  },
  {
   "cell_type": "markdown",
   "metadata": {},
   "source": [
    "![Alt text](image-6.png)"
   ]
  },
  {
   "cell_type": "code",
   "execution_count": 33,
   "metadata": {},
   "outputs": [
    {
     "name": "stdout",
     "output_type": "stream",
     "text": [
      "[  0  15  30  45  60  75  90 105 120 135 150 165]\n",
      "[0.01569339 0.09384005 0.11628842 0.13906514 0.15934517 0.22197368\n",
      " 0.31033445 0.45578192 0.63568978 0.69110377 0.81702817 0.92451136]\n",
      "[0.36871508 0.39634146 0.41891892 0.45038168 0.49137931 0.53\n",
      " 0.58333333 0.63768116 0.72222222 0.81081081 0.95454545 1.        ]\n",
      "[1.         0.98484848 0.93939394 0.89393939 0.86363636 0.8030303\n",
      " 0.74242424 0.66666667 0.59090909 0.45454545 0.31818182 0.10606061]\n"
     ]
    }
   ],
   "source": [
    "from sklearn.metrics import precision_recall_curve\n",
    "\n",
    "precisions, recalls, ths = precision_recall_curve(y_test, pr)\n",
    "\n",
    "N = ths.shape[0]\n",
    "index = np.arange(0, N, 15)\n",
    "print(index)\n",
    "\n",
    "print(ths[index])\n",
    "print(precisions[index])\n",
    "print(recalls[index])"
   ]
  },
  {
   "cell_type": "code",
   "execution_count": 34,
   "metadata": {},
   "outputs": [
    {
     "data": {
      "image/png": "[encoded data removed]",
      "text/plain": [
       "<Figure size 640x480 with 1 Axes>"
      ]
     },
     "metadata": {},
     "output_type": "display_data"
    }
   ],
   "source": [
    "import matplotlib.pyplot as plt\n",
    "\n",
    "N = ths.shape[0]\n",
    "plt.plot(ths, precisions[:N], '--')\n",
    "plt.plot(ths, recalls[:N])\n",
    "plt.grid()"
   ]
  },
  {
   "cell_type": "code",
   "execution_count": 35,
   "metadata": {},
   "outputs": [],
   "source": [
    "# 맹점\n",
    "# - 환자 1000명 중에서 확실한 Positive 징후 환자 1명만 Positive,\n",
    "#   나머지는 Negative 로 예픅\n",
    "#   -> TP = 1, FP = 0 -> 정밀도 = 100%\n",
    "# - 모든 환자를 Positive 로 예측, 실제 양성은 30명\n",
    "#   -> FN = 0, TP = 30 -> 재현율 = 100%"
   ]
  },
  {
   "cell_type": "markdown",
   "metadata": {},
   "source": [
    "![Alt text](image-7.png)"
   ]
  },
  {
   "cell_type": "code",
   "execution_count": 36,
   "metadata": {},
   "outputs": [],
   "source": [
    "# F1 스코어\n",
    "# - 정밀도와 재현율 결합\n",
    "# - 정밀도 0.9, 재현율 0.1 -> F1 = 0.18\n",
    "# - 정밀도 0.5, 재현율 0.5 -> F1 = 0.5"
   ]
  },
  {
   "cell_type": "markdown",
   "metadata": {},
   "source": [
    "![Alt text](image-8.png)"
   ]
  },
  {
   "cell_type": "code",
   "execution_count": 37,
   "metadata": {},
   "outputs": [
    {
     "name": "stdout",
     "output_type": "stream",
     "text": [
      "[[84 29]\n",
      " [21 45]]\n",
      "0.7206703910614525\n",
      "0.6081081081081081\n",
      "0.6818181818181818\n",
      "0.6428571428571428\n",
      "[[88 25]\n",
      " [22 44]]\n",
      "0.7374301675977654\n",
      "0.6376811594202898\n",
      "0.6666666666666666\n",
      "0.6518518518518518\n",
      "[[92 21]\n",
      " [22 44]]\n",
      "0.7597765363128491\n",
      "0.676923076923077\n",
      "0.6666666666666666\n",
      "0.6717557251908397\n",
      "[[95 18]\n",
      " [22 44]]\n",
      "0.776536312849162\n",
      "0.7096774193548387\n",
      "0.6666666666666666\n",
      "0.6875\n",
      "[[96 17]\n",
      " [24 42]]\n",
      "0.770949720670391\n",
      "0.711864406779661\n",
      "0.6363636363636364\n",
      "0.672\n"
     ]
    }
   ],
   "source": [
    "from sklearn.metrics import f1_score\n",
    "\n",
    "for th in [0.4, 0.45, 0.5, 0.55, 0.6]:\n",
    "    y_hat = Binarizer(threshold = th).fit_transform(pr)\n",
    "    print(confusion_matrix(y_test, y_hat))\n",
    "    print(accuracy_score(y_test, y_hat))\n",
    "    print(precision_score(y_test, y_hat))\n",
    "    print(recall_score(y_test, y_hat))\n",
    "    print(f1_score(y_test, y_hat))"
   ]
  },
  {
   "cell_type": "markdown",
   "metadata": {},
   "source": [
    "![Alt text](image-9.png)"
   ]
  },
  {
   "cell_type": "code",
   "execution_count": 38,
   "metadata": {},
   "outputs": [],
   "source": [
    "# ROC 곡선과 AUC\n",
    "\n",
    "# ROC 곡선 (Receiver Operation Characteristic Curve)\n",
    "# - FPR (False Positive Rate) 이 변할 때 TPR (True Positive Rate) 이 어떻게 변하는지 나타내는 곡선\n",
    "# - x축 : FPR, y축 : TPR"
   ]
  },
  {
   "cell_type": "markdown",
   "metadata": {},
   "source": [
    "![Alt text](image-10.png)"
   ]
  },
  {
   "cell_type": "code",
   "execution_count": 39,
   "metadata": {},
   "outputs": [
    {
     "data": {
      "text/plain": [
       "[<matplotlib.lines.Line2D at 0x20f69f02510>]"
      ]
     },
     "execution_count": 39,
     "metadata": {},
     "output_type": "execute_result"
    },
    {
     "data": {
      "image/png": "[encoded data removed]",
      "text/plain": [
       "<Figure size 640x480 with 1 Axes>"
      ]
     },
     "metadata": {},
     "output_type": "display_data"
    }
   ],
   "source": [
    "from sklearn.metrics import roc_curve\n",
    "\n",
    "fprs, tprs, ths = roc_curve(y_test, pr)\n",
    "plt.plot(fprs, tprs)\n",
    "plt.plot([0, 1], [0, 1], 'k--')"
   ]
  },
  {
   "cell_type": "markdown",
   "metadata": {},
   "source": [
    "![Alt text](image-11.png)"
   ]
  },
  {
   "cell_type": "code",
   "execution_count": 40,
   "metadata": {},
   "outputs": [
    {
     "name": "stdout",
     "output_type": "stream",
     "text": [
      "[[96 17]\n",
      " [24 42]]\n",
      "0.770949720670391\n",
      "0.711864406779661\n",
      "0.6363636363636364\n",
      "0.672\n",
      "0.7969965138106732\n"
     ]
    }
   ],
   "source": [
    "# AUC (Area Under Curve)\n",
    "# - ROC 아래의 면적\n",
    "# - 1에 가까울수록 좋음\n",
    "\n",
    "from sklearn.metrics import roc_auc_score\n",
    "\n",
    "print(confusion_matrix(y_test, y_hat))\n",
    "print(accuracy_score(y_test, y_hat))\n",
    "print(precision_score(y_test, y_hat))\n",
    "print(recall_score(y_test, y_hat))\n",
    "print(f1_score(y_test, y_hat))\n",
    "print(roc_auc_score(y_test, pr))"
   ]
  },
  {
   "cell_type": "code",
   "execution_count": 41,
   "metadata": {},
   "outputs": [
    {
     "name": "stdout",
     "output_type": "stream",
     "text": [
      "Outcome\n",
      "0    500\n",
      "1    268\n",
      "Name: count, dtype: int64\n"
     ]
    }
   ],
   "source": [
    "# 피마 인디언 당뇨병 분류\n",
    "\n",
    "# 피처들\n",
    "# - Pregnancies : 임신 횟수\n",
    "# - Glucose : 포도당 부하 검사 수치\n",
    "# - BloodPressure : 혈압\n",
    "# - SkinThickness : 팔 삼두근 뒤쪽의 피하지방 측정값\n",
    "# - Insulin : 혈청 인슐린\n",
    "# - BMI : 체질량지수\n",
    "# - DiabetesPedigreeFunction : 당뇨 내력 가중치 값\n",
    "# - Age : 나이\n",
    "# - Outcome : 클래스 결정 값 (0 또는 1)\n",
    "\n",
    "diabetes = pd.read_csv('C:/woogi/KWU/3-2/Machine_Learning/archive/diabetes.csv')\n",
    "print(diabetes['Outcome'].value_counts())"
   ]
  },
  {
   "cell_type": "code",
   "execution_count": 42,
   "metadata": {},
   "outputs": [
    {
     "data": {
      "text/html": [
       "<div>\n",
       "<style scoped>\n",
       "    .dataframe tbody tr th:only-of-type {\n",
       "        vertical-align: middle;\n",
       "    }\n",
       "\n",
       "    .dataframe tbody tr th {\n",
       "        vertical-align: top;\n",
       "    }\n",
       "\n",
       "    .dataframe thead th {\n",
       "        text-align: right;\n",
       "    }\n",
       "</style>\n",
       "<table border=\"1\" class=\"dataframe\">\n",
       "  <thead>\n",
       "    <tr style=\"text-align: right;\">\n",
       "      <th></th>\n",
       "      <th>Pregnancies</th>\n",
       "      <th>Glucose</th>\n",
       "      <th>BloodPressure</th>\n",
       "      <th>SkinThickness</th>\n",
       "      <th>Insulin</th>\n",
       "      <th>BMI</th>\n",
       "      <th>DiabetesPedigreeFunction</th>\n",
       "      <th>Age</th>\n",
       "      <th>Outcome</th>\n",
       "    </tr>\n",
       "  </thead>\n",
       "  <tbody>\n",
       "    <tr>\n",
       "      <th>0</th>\n",
       "      <td>6</td>\n",
       "      <td>148</td>\n",
       "      <td>72</td>\n",
       "      <td>35</td>\n",
       "      <td>0</td>\n",
       "      <td>33.6</td>\n",
       "      <td>0.627</td>\n",
       "      <td>50</td>\n",
       "      <td>1</td>\n",
       "    </tr>\n",
       "    <tr>\n",
       "      <th>1</th>\n",
       "      <td>1</td>\n",
       "      <td>85</td>\n",
       "      <td>66</td>\n",
       "      <td>29</td>\n",
       "      <td>0</td>\n",
       "      <td>26.6</td>\n",
       "      <td>0.351</td>\n",
       "      <td>31</td>\n",
       "      <td>0</td>\n",
       "    </tr>\n",
       "    <tr>\n",
       "      <th>2</th>\n",
       "      <td>8</td>\n",
       "      <td>183</td>\n",
       "      <td>64</td>\n",
       "      <td>0</td>\n",
       "      <td>0</td>\n",
       "      <td>23.3</td>\n",
       "      <td>0.672</td>\n",
       "      <td>32</td>\n",
       "      <td>1</td>\n",
       "    </tr>\n",
       "    <tr>\n",
       "      <th>3</th>\n",
       "      <td>1</td>\n",
       "      <td>89</td>\n",
       "      <td>66</td>\n",
       "      <td>23</td>\n",
       "      <td>94</td>\n",
       "      <td>28.1</td>\n",
       "      <td>0.167</td>\n",
       "      <td>21</td>\n",
       "      <td>0</td>\n",
       "    </tr>\n",
       "    <tr>\n",
       "      <th>4</th>\n",
       "      <td>0</td>\n",
       "      <td>137</td>\n",
       "      <td>40</td>\n",
       "      <td>35</td>\n",
       "      <td>168</td>\n",
       "      <td>43.1</td>\n",
       "      <td>2.288</td>\n",
       "      <td>33</td>\n",
       "      <td>1</td>\n",
       "    </tr>\n",
       "  </tbody>\n",
       "</table>\n",
       "</div>"
      ],
      "text/plain": [
       "   Pregnancies  Glucose  BloodPressure  SkinThickness  Insulin   BMI  \\\n",
       "0            6      148             72             35        0  33.6   \n",
       "1            1       85             66             29        0  26.6   \n",
       "2            8      183             64              0        0  23.3   \n",
       "3            1       89             66             23       94  28.1   \n",
       "4            0      137             40             35      168  43.1   \n",
       "\n",
       "   DiabetesPedigreeFunction  Age  Outcome  \n",
       "0                     0.627   50        1  \n",
       "1                     0.351   31        0  \n",
       "2                     0.672   32        1  \n",
       "3                     0.167   21        0  \n",
       "4                     2.288   33        1  "
      ]
     },
     "execution_count": 42,
     "metadata": {},
     "output_type": "execute_result"
    }
   ],
   "source": [
    "diabetes.head()"
   ]
  },
  {
   "cell_type": "code",
   "execution_count": 43,
   "metadata": {},
   "outputs": [
    {
     "name": "stdout",
     "output_type": "stream",
     "text": [
      "<class 'pandas.core.frame.DataFrame'>\n",
      "RangeIndex: 768 entries, 0 to 767\n",
      "Data columns (total 9 columns):\n",
      " #   Column                    Non-Null Count  Dtype  \n",
      "---  ------                    --------------  -----  \n",
      " 0   Pregnancies               768 non-null    int64  \n",
      " 1   Glucose                   768 non-null    int64  \n",
      " 2   BloodPressure             768 non-null    int64  \n",
      " 3   SkinThickness             768 non-null    int64  \n",
      " 4   Insulin                   768 non-null    int64  \n",
      " 5   BMI                       768 non-null    float64\n",
      " 6   DiabetesPedigreeFunction  768 non-null    float64\n",
      " 7   Age                       768 non-null    int64  \n",
      " 8   Outcome                   768 non-null    int64  \n",
      "dtypes: float64(2), int64(7)\n",
      "memory usage: 54.1 KB\n"
     ]
    }
   ],
   "source": [
    "diabetes.info()"
   ]
  },
  {
   "cell_type": "code",
   "execution_count": 44,
   "metadata": {},
   "outputs": [
    {
     "name": "stdout",
     "output_type": "stream",
     "text": [
      "[[90 10]\n",
      " [22 32]]\n",
      "0.7922077922077922\n",
      "0.7619047619047619\n",
      "0.5925925925925926\n",
      "0.6666666666666666\n",
      "0.8518518518518519\n"
     ]
    }
   ],
   "source": [
    "x = diabetes.iloc[:, :-1]\n",
    "y = diabetes.iloc[:, -1]\n",
    "\n",
    "x_train, x_test, y_train, y_test = train_test_split(x, y, test_size = 0.2, stratify = y)\n",
    "\n",
    "lr = LogisticRegression(solver = 'liblinear')\n",
    "lr.fit(x_train, y_train)\n",
    "y_hat = lr.predict(x_test)\n",
    "y_prob = lr.predict_proba(x_test)[:, 1]\n",
    "\n",
    "print(confusion_matrix(y_test, y_hat))\n",
    "print(accuracy_score(y_test, y_hat))\n",
    "print(precision_score(y_test, y_hat))\n",
    "print(recall_score(y_test, y_hat))\n",
    "print(f1_score(y_test, y_hat))\n",
    "print(roc_auc_score(y_test, y_prob))"
   ]
  },
  {
   "cell_type": "code",
   "execution_count": 45,
   "metadata": {},
   "outputs": [
    {
     "data": {
      "image/png": "[encoded data removed]",
      "text/plain": [
       "<Figure size 640x480 with 1 Axes>"
      ]
     },
     "metadata": {},
     "output_type": "display_data"
    }
   ],
   "source": [
    "precisions, recalls, ths = precision_recall_curve(y_test, y_prob)\n",
    "N = ths.shape[0]\n",
    "plt.plot(ths, precisions[:N], '--')\n",
    "plt.plot(ths, recalls[:N])\n",
    "plt.grid()"
   ]
  },
  {
   "cell_type": "code",
   "execution_count": 46,
   "metadata": {},
   "outputs": [
    {
     "data": {
      "text/html": [
       "<div>\n",
       "<style scoped>\n",
       "    .dataframe tbody tr th:only-of-type {\n",
       "        vertical-align: middle;\n",
       "    }\n",
       "\n",
       "    .dataframe tbody tr th {\n",
       "        vertical-align: top;\n",
       "    }\n",
       "\n",
       "    .dataframe thead th {\n",
       "        text-align: right;\n",
       "    }\n",
       "</style>\n",
       "<table border=\"1\" class=\"dataframe\">\n",
       "  <thead>\n",
       "    <tr style=\"text-align: right;\">\n",
       "      <th></th>\n",
       "      <th>Pregnancies</th>\n",
       "      <th>Glucose</th>\n",
       "      <th>BloodPressure</th>\n",
       "      <th>SkinThickness</th>\n",
       "      <th>Insulin</th>\n",
       "      <th>BMI</th>\n",
       "      <th>DiabetesPedigreeFunction</th>\n",
       "      <th>Age</th>\n",
       "      <th>Outcome</th>\n",
       "    </tr>\n",
       "  </thead>\n",
       "  <tbody>\n",
       "    <tr>\n",
       "      <th>count</th>\n",
       "      <td>768.000000</td>\n",
       "      <td>768.000000</td>\n",
       "      <td>768.000000</td>\n",
       "      <td>768.000000</td>\n",
       "      <td>768.000000</td>\n",
       "      <td>768.000000</td>\n",
       "      <td>768.000000</td>\n",
       "      <td>768.000000</td>\n",
       "      <td>768.000000</td>\n",
       "    </tr>\n",
       "    <tr>\n",
       "      <th>mean</th>\n",
       "      <td>3.845052</td>\n",
       "      <td>120.894531</td>\n",
       "      <td>69.105469</td>\n",
       "      <td>20.536458</td>\n",
       "      <td>79.799479</td>\n",
       "      <td>31.992578</td>\n",
       "      <td>0.471876</td>\n",
       "      <td>33.240885</td>\n",
       "      <td>0.348958</td>\n",
       "    </tr>\n",
       "    <tr>\n",
       "      <th>std</th>\n",
       "      <td>3.369578</td>\n",
       "      <td>31.972618</td>\n",
       "      <td>19.355807</td>\n",
       "      <td>15.952218</td>\n",
       "      <td>115.244002</td>\n",
       "      <td>7.884160</td>\n",
       "      <td>0.331329</td>\n",
       "      <td>11.760232</td>\n",
       "      <td>0.476951</td>\n",
       "    </tr>\n",
       "    <tr>\n",
       "      <th>min</th>\n",
       "      <td>0.000000</td>\n",
       "      <td>0.000000</td>\n",
       "      <td>0.000000</td>\n",
       "      <td>0.000000</td>\n",
       "      <td>0.000000</td>\n",
       "      <td>0.000000</td>\n",
       "      <td>0.078000</td>\n",
       "      <td>21.000000</td>\n",
       "      <td>0.000000</td>\n",
       "    </tr>\n",
       "    <tr>\n",
       "      <th>25%</th>\n",
       "      <td>1.000000</td>\n",
       "      <td>99.000000</td>\n",
       "      <td>62.000000</td>\n",
       "      <td>0.000000</td>\n",
       "      <td>0.000000</td>\n",
       "      <td>27.300000</td>\n",
       "      <td>0.243750</td>\n",
       "      <td>24.000000</td>\n",
       "      <td>0.000000</td>\n",
       "    </tr>\n",
       "    <tr>\n",
       "      <th>50%</th>\n",
       "      <td>3.000000</td>\n",
       "      <td>117.000000</td>\n",
       "      <td>72.000000</td>\n",
       "      <td>23.000000</td>\n",
       "      <td>30.500000</td>\n",
       "      <td>32.000000</td>\n",
       "      <td>0.372500</td>\n",
       "      <td>29.000000</td>\n",
       "      <td>0.000000</td>\n",
       "    </tr>\n",
       "    <tr>\n",
       "      <th>75%</th>\n",
       "      <td>6.000000</td>\n",
       "      <td>140.250000</td>\n",
       "      <td>80.000000</td>\n",
       "      <td>32.000000</td>\n",
       "      <td>127.250000</td>\n",
       "      <td>36.600000</td>\n",
       "      <td>0.626250</td>\n",
       "      <td>41.000000</td>\n",
       "      <td>1.000000</td>\n",
       "    </tr>\n",
       "    <tr>\n",
       "      <th>max</th>\n",
       "      <td>17.000000</td>\n",
       "      <td>199.000000</td>\n",
       "      <td>122.000000</td>\n",
       "      <td>99.000000</td>\n",
       "      <td>846.000000</td>\n",
       "      <td>67.100000</td>\n",
       "      <td>2.420000</td>\n",
       "      <td>81.000000</td>\n",
       "      <td>1.000000</td>\n",
       "    </tr>\n",
       "  </tbody>\n",
       "</table>\n",
       "</div>"
      ],
      "text/plain": [
       "       Pregnancies     Glucose  BloodPressure  SkinThickness     Insulin  \\\n",
       "count   768.000000  768.000000     768.000000     768.000000  768.000000   \n",
       "mean      3.845052  120.894531      69.105469      20.536458   79.799479   \n",
       "std       3.369578   31.972618      19.355807      15.952218  115.244002   \n",
       "min       0.000000    0.000000       0.000000       0.000000    0.000000   \n",
       "25%       1.000000   99.000000      62.000000       0.000000    0.000000   \n",
       "50%       3.000000  117.000000      72.000000      23.000000   30.500000   \n",
       "75%       6.000000  140.250000      80.000000      32.000000  127.250000   \n",
       "max      17.000000  199.000000     122.000000      99.000000  846.000000   \n",
       "\n",
       "              BMI  DiabetesPedigreeFunction         Age     Outcome  \n",
       "count  768.000000                768.000000  768.000000  768.000000  \n",
       "mean    31.992578                  0.471876   33.240885    0.348958  \n",
       "std      7.884160                  0.331329   11.760232    0.476951  \n",
       "min      0.000000                  0.078000   21.000000    0.000000  \n",
       "25%     27.300000                  0.243750   24.000000    0.000000  \n",
       "50%     32.000000                  0.372500   29.000000    0.000000  \n",
       "75%     36.600000                  0.626250   41.000000    1.000000  \n",
       "max     67.100000                  2.420000   81.000000    1.000000  "
      ]
     },
     "execution_count": 46,
     "metadata": {},
     "output_type": "execute_result"
    }
   ],
   "source": [
    "diabetes.describe()\n",
    "# min 값이 0인 피처가 많음"
   ]
  },
  {
   "cell_type": "code",
   "execution_count": 47,
   "metadata": {},
   "outputs": [
    {
     "data": {
      "text/plain": [
       "(array([  5.,   0.,   4.,  32., 156., 211., 163.,  95.,  56.,  46.]),\n",
       " array([  0. ,  19.9,  39.8,  59.7,  79.6,  99.5, 119.4, 139.3, 159.2,\n",
       "        179.1, 199. ]),\n",
       " <BarContainer object of 10 artists>)"
      ]
     },
     "execution_count": 47,
     "metadata": {},
     "output_type": "execute_result"
    },
    {
     "data": {
      "image/png": "[encoded data removed]",
      "text/plain": [
       "<Figure size 640x480 with 1 Axes>"
      ]
     },
     "metadata": {},
     "output_type": "display_data"
    }
   ],
   "source": [
    "plt.hist(diabetes['Glucose'], bins = 10)"
   ]
  },
  {
   "cell_type": "code",
   "execution_count": 48,
   "metadata": {},
   "outputs": [
    {
     "name": "stdout",
     "output_type": "stream",
     "text": [
      "Glucose 5 0.6510416666666666\n",
      "BloodPressure 35 4.557291666666667\n",
      "SkinThickness 227 29.557291666666668\n",
      "Insulin 374 48.697916666666664\n",
      "BMI 11 1.4322916666666667\n"
     ]
    }
   ],
   "source": [
    "# min 값이 0인 피처에 대해\n",
    "# - 0의 건수\n",
    "# - 전체 데이터 건수 대비 비율\n",
    "\n",
    "zero_features = ['Glucose', 'BloodPressure', 'SkinThickness', 'Insulin', 'BMI']\n",
    "total_count = diabetes['Glucose'].count()\n",
    "\n",
    "for feature in zero_features:\n",
    "    zero_count = diabetes[diabetes[feature] == 0][feature].count()\n",
    "    print(feature, zero_count, 100 * zero_count / total_count)"
   ]
  },
  {
   "cell_type": "code",
   "execution_count": 49,
   "metadata": {},
   "outputs": [
    {
     "name": "stdout",
     "output_type": "stream",
     "text": [
      "[[86 14]\n",
      " [21 33]]\n",
      "0.7727272727272727\n",
      "0.7021276595744681\n",
      "0.6111111111111112\n",
      "0.6534653465346535\n",
      "0.8192592592592592\n"
     ]
    }
   ],
   "source": [
    "# 0 값을 평균 값으로 대체\n",
    "# 스케일링\n",
    "\n",
    "from sklearn.preprocessing import StandardScaler\n",
    "\n",
    "mean_zero_features = diabetes[zero_features].mean()\n",
    "diabetes[zero_features] = diabetes[zero_features].replace(0, mean_zero_features)\n",
    "\n",
    "x = diabetes.iloc[:, :-1]\n",
    "y = diabetes.iloc[:, -1]\n",
    "\n",
    "scaler = StandardScaler()\n",
    "x_scaled = scaler.fit_transform(x)\n",
    "x_train, x_test, y_train, y_test = train_test_split(x_scaled, y, test_size = 0.2, stratify = y)\n",
    "\n",
    "lr = LogisticRegression()\n",
    "lr.fit(x_train, y_train)\n",
    "y_hat = lr.predict(x_test)\n",
    "y_prob = lr.predict_proba(x_test)[:, 1]\n",
    "\n",
    "print(confusion_matrix(y_test, y_hat))\n",
    "print(accuracy_score(y_test, y_hat))\n",
    "print(precision_score(y_test, y_hat))\n",
    "print(recall_score(y_test, y_hat))\n",
    "print(f1_score(y_test, y_hat))\n",
    "print(roc_auc_score(y_test, y_prob))"
   ]
  },
  {
   "cell_type": "code",
   "execution_count": 50,
   "metadata": {},
   "outputs": [
    {
     "name": "stdout",
     "output_type": "stream",
     "text": [
      "[[63 37]\n",
      " [10 44]]\n",
      "0.6948051948051948\n",
      "0.5432098765432098\n",
      "0.8148148148148148\n",
      "0.6518518518518519\n",
      "0.8192592592592592\n",
      "[[64 36]\n",
      " [10 44]]\n",
      "0.7012987012987013\n",
      "0.55\n",
      "0.8148148148148148\n",
      "0.6567164179104479\n",
      "0.8192592592592592\n",
      "[[69 31]\n",
      " [12 42]]\n",
      "0.7207792207792207\n",
      "0.5753424657534246\n",
      "0.7777777777777778\n",
      "0.6614173228346456\n",
      "0.8192592592592592\n",
      "[[73 27]\n",
      " [15 39]]\n",
      "0.7272727272727273\n",
      "0.5909090909090909\n",
      "0.7222222222222222\n",
      "0.65\n",
      "0.8192592592592592\n",
      "[[75 25]\n",
      " [17 37]]\n",
      "0.7272727272727273\n",
      "0.5967741935483871\n",
      "0.6851851851851852\n",
      "0.6379310344827587\n",
      "0.8192592592592592\n",
      "[[81 19]\n",
      " [18 36]]\n",
      "0.7597402597402597\n",
      "0.6545454545454545\n",
      "0.6666666666666666\n",
      "0.6605504587155963\n",
      "0.8192592592592592\n",
      "[[85 15]\n",
      " [20 34]]\n",
      "0.7727272727272727\n",
      "0.6938775510204082\n",
      "0.6296296296296297\n",
      "0.6601941747572815\n",
      "0.8192592592592592\n",
      "[[86 14]\n",
      " [21 33]]\n",
      "0.7727272727272727\n",
      "0.7021276595744681\n",
      "0.6111111111111112\n",
      "0.6534653465346535\n",
      "0.8192592592592592\n"
     ]
    }
   ],
   "source": [
    "for th in [0.3, 0.33, 0.36, 0.39, 0.42, 0.45, 0.48, 0.5]:\n",
    "    y_hat = Binarizer(threshold = th).fit_transform(y_prob.reshape(-1, 1))\n",
    "    print(confusion_matrix(y_test, y_hat))\n",
    "    print(accuracy_score(y_test, y_hat))\n",
    "    print(precision_score(y_test, y_hat))\n",
    "    print(recall_score(y_test, y_hat))\n",
    "    print(f1_score(y_test, y_hat))\n",
    "    print(roc_auc_score(y_test, y_prob))"
   ]
  },
  {
   "cell_type": "markdown",
   "metadata": {},
   "source": [
    "![Alt text](image-12.png)"
   ]
  },
  {
   "cell_type": "markdown",
   "metadata": {},
   "source": [
    "![Alt text](image-13.png)"
   ]
  }
 ],
 "metadata": {
  "kernelspec": {
   "display_name": "Python 3",
   "language": "python",
   "name": "python3"
  },
  "language_info": {
   "codemirror_mode": {
    "name": "ipython",
    "version": 3
   },
   "file_extension": ".py",
   "mimetype": "text/x-python",
   "name": "python",
   "nbconvert_exporter": "python",
   "pygments_lexer": "ipython3",
   "version": "3.11.5"
  },
  "orig_nbformat": 4
 },
 "nbformat": 4,
 "nbformat_minor": 2
}
