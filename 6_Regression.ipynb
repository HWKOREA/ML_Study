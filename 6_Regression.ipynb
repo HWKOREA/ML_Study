{
 "cells": [
  {
   "cell_type": "code",
   "execution_count": 106,
   "metadata": {},
   "outputs": [],
   "source": [
    "### 6. 회귀 (Regression) ###\n",
    "\n",
    "# 회귀 (Regression) 의 유래\n",
    "# 1885년 영국 통계학자 갈톤 (F.Galton)의 논문 \"유전의 의하여 보통 사람의 신장으로 회귀\"\n",
    "# 205쌍의 부모와 성인 자녀에 대한 키 자료 수집\n",
    "# 여성의 키에 1.08 곱하고 부모 키의 평균 계산 -> Midparent Height\n",
    "# 키의 범위로 그룹핑"
   ]
  },
  {
   "cell_type": "markdown",
   "metadata": {},
   "source": [
    "![Alt text](image-38.png)"
   ]
  },
  {
   "cell_type": "code",
   "execution_count": 107,
   "metadata": {},
   "outputs": [],
   "source": [
    "# 각 그룹별로 자녀들 키의 중간 값을 구하여 표시 -> Adult Children\n",
    "# 부모와 성인 자녀 각각에대해 직선 표시\n",
    "# 평균 키 (68.25 인치) 표시 -> Avg Adult"
   ]
  },
  {
   "cell_type": "markdown",
   "metadata": {},
   "source": [
    "![Alt text](image-39.png)"
   ]
  },
  {
   "cell_type": "code",
   "execution_count": 108,
   "metadata": {},
   "outputs": [],
   "source": [
    "# 회귀 (Regression)\n",
    "\n",
    "# 독립 변수와 종속 변수 간의 상관 관계를 모델링하는 기법을 통칭"
   ]
  },
  {
   "cell_type": "markdown",
   "metadata": {},
   "source": [
    "![Alt text](image-40.png)"
   ]
  },
  {
   "cell_type": "code",
   "execution_count": 109,
   "metadata": {},
   "outputs": [],
   "source": [
    "# 입출력의 상관 관계"
   ]
  },
  {
   "cell_type": "markdown",
   "metadata": {},
   "source": [
    "![Alt text](image-42.png)"
   ]
  },
  {
   "cell_type": "markdown",
   "metadata": {},
   "source": [
    "![Alt text](image-43.png)"
   ]
  },
  {
   "cell_type": "markdown",
   "metadata": {},
   "source": [
    "![Alt text](image-44.png)"
   ]
  },
  {
   "cell_type": "code",
   "execution_count": 110,
   "metadata": {},
   "outputs": [],
   "source": [
    "# 배추 생산량 예측"
   ]
  },
  {
   "cell_type": "markdown",
   "metadata": {},
   "source": [
    "![Alt text](image-45.png)"
   ]
  },
  {
   "cell_type": "code",
   "execution_count": 111,
   "metadata": {},
   "outputs": [],
   "source": [
    "# 입력\n",
    "# - 독립 변수 (Independent Variable)\n",
    "# - 예측 변수 (Predictor Variable)\n",
    "# - 회귀자 (Regressor)\n",
    "# - 공변량 (Covariate)\n",
    "# - 조작 변수 (Manipulated Variable)\n",
    "# - 설명 변수 (Explanatory Variable)\n",
    "# - 노출 변수 (Exposure Variable) <- 신뢰성 이론\n",
    "# - 리스크 팩터 (Risk Factor) <- 의학 통계학\n",
    "# - 특징 (Feature) <- 기계 학습, 패턴 인식 \n",
    "# - 입력 변수 (Input Variable)\n",
    "# - 통제 변수 (Control Variable) <- 경제학\n",
    "# - 외생 변수 (Exogenous Variable) <- 경제학\n",
    "\n",
    "# 출력\n",
    "# - 종속 변수 (Dependent Variable)\n",
    "# - 응답 변수 (Response Variable)\n",
    "# - Regressand\n",
    "# - Criterion\n",
    "# - 예측된 변수 (Predicted Variable)\n",
    "# - 측정된 변수 (Measured Variable)\n",
    "# - Explained Variable\n",
    "# - Experimental Variable\n",
    "# - Responding Variable\n",
    "# - Outcome Variable\n",
    "# - 출력 변수 (Output Variable)\n",
    "# - Target\n",
    "# - Label\n",
    "# - 내생 변수 (Endogenous Variable) <- 경제학\n"
   ]
  },
  {
   "cell_type": "markdown",
   "metadata": {},
   "source": [
    "![Alt text](image-46.png)"
   ]
  },
  {
   "cell_type": "code",
   "execution_count": 112,
   "metadata": {},
   "outputs": [],
   "source": [
    "# 선형 회귀 (Linear Regression)\n",
    "\n",
    "# - 독립 변수와 종속 변수 간의 관계를 선형으로 모델링\n",
    "#   y = w0 + w1x\n",
    "# - 단순 선형 회귀 (Simple Linear Regression) : 독립 변수가 1개인 경우\n",
    "# - 다중 선형 회귀 (Multiple Linear Regression) : 독립 변수가 여러 개인 경우\n",
    "# - 다변수 선형 회귀 (Multivariate Linear Regression) : 종속 변수가 여러 개인 경우"
   ]
  },
  {
   "cell_type": "code",
   "execution_count": 113,
   "metadata": {},
   "outputs": [],
   "source": [
    "# 데이터 세트"
   ]
  },
  {
   "cell_type": "markdown",
   "metadata": {},
   "source": [
    "![Alt text](image-47.png)"
   ]
  },
  {
   "cell_type": "markdown",
   "metadata": {},
   "source": [
    "![Alt text](image-48.png)"
   ]
  },
  {
   "cell_type": "code",
   "execution_count": 114,
   "metadata": {},
   "outputs": [],
   "source": [
    "# 단순 선형 회귀\n",
    "\n",
    "# 독립 변수 1개, 종속 변수 1개\n",
    "# 예) 주택 크기 & 주택 가격"
   ]
  },
  {
   "cell_type": "markdown",
   "metadata": {},
   "source": [
    "![Alt text](image-49.png)"
   ]
  },
  {
   "cell_type": "code",
   "execution_count": 115,
   "metadata": {},
   "outputs": [],
   "source": [
    "# 손실 함수 (Loss Function) 또는 비용 함수 (Cost Function)"
   ]
  },
  {
   "cell_type": "markdown",
   "metadata": {},
   "source": [
    "![Alt text](image-50.png)"
   ]
  },
  {
   "cell_type": "code",
   "execution_count": 116,
   "metadata": {},
   "outputs": [],
   "source": [
    "# 편미분 방정식"
   ]
  },
  {
   "cell_type": "markdown",
   "metadata": {},
   "source": [
    "![Alt text](image-51.png)"
   ]
  },
  {
   "cell_type": "markdown",
   "metadata": {},
   "source": [
    "![Alt text](image-52.png)"
   ]
  },
  {
   "cell_type": "markdown",
   "metadata": {},
   "source": [
    "![Alt text](image-53.png)"
   ]
  },
  {
   "cell_type": "code",
   "execution_count": 117,
   "metadata": {},
   "outputs": [],
   "source": [
    "# 행렬 계산"
   ]
  },
  {
   "cell_type": "markdown",
   "metadata": {},
   "source": [
    "![Alt text](image-54.png)"
   ]
  },
  {
   "cell_type": "markdown",
   "metadata": {},
   "source": [
    "![Alt text](image-55.png)"
   ]
  },
  {
   "cell_type": "markdown",
   "metadata": {},
   "source": [
    "![Alt text](image-56.png)"
   ]
  },
  {
   "cell_type": "markdown",
   "metadata": {},
   "source": [
    "![Alt text](image-57.png)"
   ]
  },
  {
   "cell_type": "markdown",
   "metadata": {},
   "source": [
    "![Alt text](image-58.png)"
   ]
  },
  {
   "cell_type": "code",
   "execution_count": 118,
   "metadata": {},
   "outputs": [],
   "source": [
    "# 경사 하강법 (Gradient Descent)"
   ]
  },
  {
   "cell_type": "markdown",
   "metadata": {},
   "source": [
    "![Alt text](image-59.png)"
   ]
  },
  {
   "cell_type": "markdown",
   "metadata": {},
   "source": [
    "![Alt text](image-60.png)"
   ]
  },
  {
   "cell_type": "markdown",
   "metadata": {},
   "source": [
    "![Alt text](image-61.png)"
   ]
  },
  {
   "cell_type": "code",
   "execution_count": 119,
   "metadata": {},
   "outputs": [
    {
     "data": {
      "text/plain": [
       "<matplotlib.collections.PathCollection at 0x28a6891a650>"
      ]
     },
     "execution_count": 119,
     "metadata": {},
     "output_type": "execute_result"
    },
    {
     "data": {
      "image/png": "[encoded data removed]",
      "text/plain": [
       "<Figure size 640x480 with 1 Axes>"
      ]
     },
     "metadata": {},
     "output_type": "display_data"
    }
   ],
   "source": [
    "import numpy as np\n",
    "import matplotlib.pyplot as plt\n",
    "\n",
    "np.random.seed(0)\n",
    "X = 2 * np.random.rand(100, 1)\n",
    "y = 6 + 4 * X + np.random.randn(100, 1)\n",
    "\n",
    "plt.scatter(X, y)\n",
    "# y = 4x + 6"
   ]
  },
  {
   "cell_type": "markdown",
   "metadata": {},
   "source": [
    "![Alt text](image-62.png)"
   ]
  },
  {
   "cell_type": "code",
   "execution_count": 120,
   "metadata": {},
   "outputs": [
    {
     "name": "stdout",
     "output_type": "stream",
     "text": [
      "105.72278229095672\n",
      "97.29699213674446\n",
      "89.55269770638449\n",
      "82.43475476782086\n",
      "75.89248131648748\n",
      "69.87929649443328\n",
      "64.35238872790998\n",
      "59.27241071908023\n",
      "54.60319911882601\n",
      "50.311516883476706\n",
      "46.366816479886026\n",
      "42.7410222518218\n",
      "39.40833039714525\n",
      "36.34502513072504\n",
      "33.52930972334496\n",
      "30.941151212848627\n",
      "28.562137681171023\n",
      "26.375347080432643\n",
      "24.365226673552275\n",
      "22.517482230457652\n",
      "20.818976190476533\n",
      "19.257634065369576\n",
      "17.82235841617722\n",
      "16.502949791011602\n",
      "15.290034060517721\n",
      "14.174995633308065\n",
      "13.149916075566574\n",
      "12.207517697519442\n",
      "11.341111704856846\n",
      "10.544550545712168\n",
      "9.812184113696622\n",
      "9.138819494959426\n",
      "8.519683972492956\n",
      "7.950391024108406\n",
      "7.426909071835848\n",
      "6.945532760104954\n",
      "6.502856558078876\n",
      "6.095750498072061\n",
      "5.72133787720136\n",
      "5.376974763406625\n",
      "5.0602311598322585\n",
      "4.768873693376084\n",
      "4.50084970407073\n",
      "4.254272621942983\n",
      "4.0274085271691025\n",
      "3.818663797774448\n",
      "3.6265737568739396\n",
      "3.4497922385710806\n",
      "3.2870819981781967\n",
      "3.137305898435885\n",
      "2.999418808938283\n",
      "2.872460161051898\n",
      "2.755547105285869\n",
      "2.64786822236361\n",
      "2.548677743190623\n",
      "2.4572902365389018\n",
      "2.3730757266005686\n",
      "2.2954552056259474\n",
      "2.2238965096760897\n",
      "2.1579105281067097\n",
      "2.097047719778188\n",
      "2.0408949111715518\n",
      "1.9890723535987325\n",
      "1.9412310185413724\n",
      "1.897050111848917\n",
      "1.8562347890860655\n",
      "1.8185140557526476\n",
      "1.783638837416182\n",
      "1.7513802060078718\n",
      "1.7215277496453771\n",
      "1.6938880743682674\n",
      "1.6682834271118503\n",
      "1.6445504301088356\n",
      "1.6225389177021692\n",
      "1.6021108672819693\n",
      "1.5831394167301118\n",
      "1.5655079613723057\n",
      "1.5491093240039597\n",
      "1.5338449920767676\n",
      "1.5196244166113735\n",
      "1.5063643678413265\n",
      "1.4939883429976104\n",
      "1.482426022014605\n",
      "1.471612767279686\n",
      "1.4614891638624854\n",
      "1.4520005969482168\n",
      "1.4430968634645447\n",
      "1.434731815135069\n",
      "1.426863030416407\n",
      "1.4194515129816299\n",
      "1.4124614146019392\n",
      "1.4058597804522899\n",
      "1.399616315026434\n",
      "1.3937031669936897\n",
      "1.388094731464655\n",
      "1.3827674682571947\n",
      "1.3776997348679185\n",
      "1.3728716329592294\n",
      "1.368264867268252\n",
      "1.363862615932479\n",
      "1.3596494113082958\n",
      "1.3556110304333238\n",
      "1.3517343943521896\n",
      "1.3480074755885147\n",
      "1.3444192131039356\n",
      "1.3409594341383029\n",
      "1.3376187823742562\n",
      "1.3343886519143944\n",
      "1.3312611266006973\n",
      "1.3282289242439145\n",
      "1.3252853453656046\n",
      "1.3224242260876655\n",
      "1.3196398948337487\n",
      "1.316927132534101\n",
      "1.3142811360503388\n",
      "1.3116974845596072\n",
      "1.3091721086586485\n",
      "1.3067012619676859\n",
      "1.3042814950318509\n",
      "1.3019096313342298\n",
      "1.2995827452496636\n",
      "1.2972981417822604\n",
      "1.29505333794228\n",
      "1.2928460456297404\n",
      "1.2906741559028219\n",
      "1.2885357245190139\n",
      "1.2864289586460163\n",
      "1.2843522046477402\n",
      "1.282303936858418\n",
      "1.2802827472648572\n",
      "1.2782873360233662\n",
      "1.2763165027437977\n",
      "1.2743691384786515\n",
      "1.2724442183601739\n",
      "1.2705407948330245\n",
      "1.2686579914343177\n",
      "1.266794997076747\n",
      "1.2649510607940906\n",
      "1.263125486911669\n",
      "1.2613176306073866\n",
      "1.2595268938317419\n",
      "1.2577527215577624\n",
      "1.2559945983341743\n",
      "1.2542520451172579\n",
      "1.252524616358854\n",
      "1.2508118973297864\n",
      "1.2491135016596504\n",
      "1.247429069075469\n",
      "1.2457582633231155\n",
      "1.2441007702567284\n",
      "1.2424562960825056\n",
      "1.2408245657444104\n",
      "1.2392053214402885\n",
      "1.2375983212578567\n",
      "1.236003337920856\n",
      "1.234420157636462\n",
      "1.2328485790357577\n",
      "1.2312884121997414\n",
      "1.2297394777639443\n",
      "1.2282016060953054\n",
      "1.2266746365354533\n",
      "1.225158416705022\n",
      "1.2236528018640678\n",
      "1.222157654324043\n",
      "1.2206728429071594\n",
      "1.2191982424493093\n",
      "1.2177337333430138\n",
      "1.2162792011171724\n",
      "1.214834536050621\n",
      "1.2133996328167822\n",
      "1.2119743901568787\n",
      "1.2105587105794027\n",
      "1.209152500083728\n",
      "1.2077556679058952\n",
      "1.2063681262847927\n",
      "1.2049897902470745\n",
      "1.2036205774093043\n",
      "1.2022604077959291\n",
      "1.2009092036718108\n",
      "1.1995668893881268\n",
      "1.1982333912405694\n",
      "1.1969086373388462\n",
      "1.1955925574865645\n",
      "1.1942850830706666\n",
      "1.1929861469596432\n",
      "1.1916956834098087\n",
      "1.190413627978998\n",
      "1.1891399174470758\n",
      "1.1878744897427156\n",
      "1.1866172838759363\n",
      "1.1853682398759333\n",
      "1.1841272987337812\n",
      "1.1828944023496077\n",
      "1.1816694934838825\n",
      "1.180452515712488\n",
      "1.179243413385268\n",
      "1.1780421315877703\n",
      "1.1768486161059337\n",
      "1.1756628133934692\n",
      "1.1744846705417324\n",
      "1.1733141352518794\n",
      "1.1721511558091173\n",
      "1.1709956810588953\n",
      "1.1698476603848655\n",
      "1.1687070436884794\n",
      "1.1675737813700866\n",
      "1.166447824311416\n",
      "1.1653291238593253\n",
      "1.1642176318107211\n",
      "1.1631133003985559\n",
      "1.162016082278812\n",
      "1.1609259305183943\n",
      "1.159842798583864\n",
      "1.1587666403309396\n",
      "1.1576974099947102\n",
      "1.1566350621804988\n",
      "1.1555795518553251\n",
      "1.154530834339926\n",
      "1.1534888653012816\n",
      "1.152453600745609\n",
      "1.1514249970117918\n",
      "1.1504030107652032\n",
      "1.1493875989919002\n",
      "1.1483787189931498\n",
      "1.1473763283802692\n",
      "1.1463803850697536\n",
      "1.1453908472786658\n",
      "1.1444076735202744\n",
      "1.1434308225999088\n",
      "1.1424602536110313\n",
      "1.1414959259314925\n",
      "1.1405377992199708\n",
      "1.139585833412569\n",
      "1.1386399887195644\n",
      "1.1377002256223014\n",
      "1.1367665048702078\n",
      "1.135838787477934\n",
      "1.1349170347226032\n",
      "1.1340012081411595\n",
      "1.1330912695278164\n",
      "1.1321871809315913\n",
      "1.1312889046539183\n",
      "1.1303964032463416\n",
      "1.1295096395082773\n",
      "1.1286285764848396\n",
      "1.1277531774647285\n",
      "1.1268834059781763\n",
      "1.1260192257949424\n",
      "1.125160600922363\n",
      "1.1243074956034413\n",
      "1.123459874314985\n",
      "1.1226177017657815\n",
      "1.1217809428948122\n",
      "1.1209495628695016\n",
      "1.120123527083999\n",
      "1.119302801157494\n",
      "1.118487350932555\n",
      "1.1176771424735066\n",
      "1.1168721420648189\n",
      "1.116072316209536\n",
      "1.1152776316277158\n",
      "1.1144880552548981\n",
      "1.1137035542405942\n",
      "1.112924095946794\n",
      "1.1121496479464923\n",
      "1.111380178022235\n",
      "1.1106156541646814\n",
      "1.1098560445711825\n",
      "1.109101317644377\n",
      "1.1083514419908007\n",
      "1.1076063864195125\n",
      "1.1068661199407313\n",
      "1.1061306117644898\n",
      "1.1053998312993003\n",
      "1.1046737481508306\n",
      "1.1039523321205977\n",
      "1.103235553204667\n",
      "1.1025233815923676\n",
      "1.101815787665018\n",
      "1.101112741994659\n",
      "1.1004142153428011\n",
      "1.099720178659184\n",
      "1.0990306030805381\n",
      "1.098345459929366\n",
      "1.0976647207127257\n",
      "1.096988357121026\n",
      "1.096316341026832\n",
      "1.09564864448368\n",
      "1.094985239724897\n",
      "1.0943260991624366\n",
      "1.0936711953857134\n",
      "1.0930205011604566\n",
      "1.0923739894275633\n",
      "1.0917316333019627\n",
      "1.091093406071494\n",
      "1.09045928119578\n",
      "1.0898292323051213\n",
      "1.08920323319939\n",
      "1.088581257846935\n",
      "1.0879632803834909\n",
      "1.0873492751111014\n",
      "1.0867392164970417\n",
      "1.0861330791727528\n",
      "1.085530837932784\n",
      "1.0849324677337395\n",
      "1.0843379436932326\n",
      "1.0837472410888511\n",
      "1.0831603353571202\n",
      "1.0825772020924855\n",
      "1.0819978170462892\n",
      "1.081422156125764\n",
      "1.0808501953930263\n",
      "1.0802819110640787\n",
      "1.0797172795078216\n",
      "1.0791562772450665\n",
      "1.078598880947559\n",
      "1.0780450674370077\n",
      "1.0774948136841176\n",
      "1.0769480968076341\n",
      "1.076404894073386\n",
      "1.0758651828933434\n",
      "1.0753289408246753\n",
      "1.0747961455688162\n",
      "1.0742667749705377\n",
      "1.0737408070170265\n",
      "1.073218219836968\n",
      "1.072698991699638\n",
      "1.0721831010139962\n",
      "1.0716705263277888\n",
      "1.0711612463266567\n",
      "1.0706552398332476\n",
      "1.0701524858063358\n",
      "1.0696529633399465\n",
      "1.0691566516624857\n",
      "1.068663530135877\n",
      "1.0681735782547022\n",
      "1.0676867756453507\n",
      "1.067203102065168\n",
      "1.066722537401617\n",
      "1.0662450616714405\n",
      "1.0657706550198298\n",
      "1.0652992977195987\n",
      "1.0648309701703653\n",
      "1.0643656528977317\n",
      "1.063903326552481\n",
      "1.0634439719097661\n",
      "1.0629875698683138\n",
      "1.06253410144963\n",
      "1.062083547797209\n",
      "1.061635890175752\n",
      "1.0611911099703846\n",
      "1.0607491886858846\n",
      "1.0603101079459132\n",
      "1.05987384949225\n",
      "1.0594403951840334\n",
      "1.0590097269970071\n",
      "1.0585818270227698\n",
      "1.0581566774680309\n",
      "1.0577342606538707\n",
      "1.0573145590150042\n",
      "1.056897555099053\n",
      "1.0564832315658155\n",
      "1.056071571186551\n",
      "1.0556625568432587\n",
      "1.0552561715279694\n",
      "1.054852398342034\n",
      "1.0544512204954253\n",
      "1.0540526213060373\n",
      "1.0536565841989927\n",
      "1.0532630927059508\n",
      "1.052872130464428\n",
      "1.0524836812171114\n",
      "1.052097728811188\n",
      "1.0517142571976685\n",
      "1.0513332504307236\n",
      "1.0509546926670181\n",
      "1.0505785681650543\n",
      "1.0502048612845167\n",
      "1.0498335564856205\n",
      "1.0494646383284667\n",
      "1.0490980914723995\n",
      "1.0487339006753684\n",
      "1.0483720507932954\n",
      "1.0480125267794431\n",
      "1.047655313683792\n",
      "1.0473003966524153\n",
      "1.0469477609268636\n",
      "1.0465973918435518\n",
      "1.0462492748331464\n",
      "1.045903395419963\n",
      "1.0455597392213618\n",
      "1.0452182919471515\n",
      "1.044879039398993\n",
      "1.044541967469811\n",
      "1.0442070621432058\n",
      "1.0438743094928717\n",
      "1.0435436956820174\n",
      "1.0432152069627896\n",
      "1.042888829675704\n",
      "1.042564550249074\n",
      "1.0422423551984488\n",
      "1.0419222311260514\n",
      "1.0416041647202225\n",
      "1.0412881427548657\n",
      "1.0409741520888993\n",
      "1.040662179665707\n",
      "1.0403522125125984\n",
      "1.040044237740266\n",
      "1.0397382425422534\n",
      "1.0394342141944188\n",
      "1.0391321400544091\n",
      "1.0388320075611304\n",
      "1.0385338042342298\n",
      "1.0382375176735739\n",
      "1.037943135558734\n",
      "1.0376506456484738\n",
      "1.037360035780239\n",
      "1.0370712938696547\n",
      "1.03678440791002\n",
      "1.0364993659718085\n",
      "1.0362161562021754\n",
      "1.0359347668244612\n",
      "1.0356551861377044\n",
      "1.0353774025161528\n",
      "1.0351014044087825\n",
      "1.0348271803388156\n",
      "1.034554718903244\n",
      "1.034284008772354\n",
      "1.0340150386892575\n",
      "1.0337477974694214\n",
      "1.0334822740002039\n",
      "1.0332184572403922\n",
      "1.0329563362197434\n",
      "1.0326959000385276\n",
      "1.0324371378670767\n",
      "1.0321800389453302\n",
      "1.0319245925823928\n",
      "1.0316707881560858\n",
      "1.0314186151125064\n",
      "1.0311680629655908\n",
      "1.030919121296676\n",
      "1.0306717797540665\n",
      "1.0304260280526052\n",
      "1.0301818559732452\n",
      "1.0299392533626246\n",
      "1.029698210132644\n",
      "1.0294587162600477\n",
      "1.0292207617860072\n",
      "1.0289843368157061\n",
      "1.0287494315179286\n",
      "1.028516036124651\n",
      "1.0282841409306376\n",
      "1.0280537362930329\n",
      "1.0278248126309644\n",
      "1.0275973604251414\n",
      "1.0273713702174623\n",
      "1.0271468326106175\n",
      "1.0269237382677026\n",
      "1.0267020779118263\n",
      "1.0264818423257287\n",
      "1.0262630223513929\n",
      "1.0260456088896701\n",
      "1.0258295928998962\n",
      "1.0256149653995184\n",
      "1.025401717463722\n",
      "1.025189840225058\n",
      "1.0249793248730745\n",
      "1.0247701626539512\n",
      "1.024562344870134\n",
      "1.0243558628799747\n",
      "1.0241507080973722\n",
      "1.023946871991413\n",
      "1.023744346086018\n",
      "1.0235431219595912\n",
      "1.023343191244666\n",
      "1.023144545627562\n",
      "1.022947176848035\n",
      "1.0227510766989365\n",
      "1.0225562370258698\n",
      "1.0223626497268534\n",
      "1.0221703067519832\n",
      "1.021979200103097\n",
      "1.0217893218334424\n",
      "1.0216006640473472\n",
      "1.0214132188998892\n",
      "1.0212269785965729\n",
      "1.021041935393002\n",
      "1.0208580815945592\n",
      "1.0206754095560868\n",
      "1.0204939116815668\n",
      "1.0203135804238084\n",
      "1.020134408284129\n",
      "1.0199563878120481\n",
      "1.019779511604973\n",
      "1.0196037723078943\n",
      "1.019429162613077\n",
      "1.0192556752597577\n",
      "1.0190833030338462\n",
      "1.0189120387676192\n",
      "1.0187418753394266\n",
      "1.0185728056733951\n",
      "1.0184048227391318\n",
      "1.0182379195514337\n",
      "1.018072089169997\n",
      "1.017907324699128\n",
      "1.017743619287456\n",
      "1.0175809661276496\n",
      "1.0174193584561333\n",
      "1.0172587895528047\n",
      "1.0170992527407579\n",
      "1.0169407413860023\n",
      "1.0167832488971913\n",
      "1.016626768725343\n",
      "1.0164712943635714\n",
      "1.0163168193468166\n",
      "1.0161633372515722\n",
      "1.0160108416956197\n",
      "1.0158593263377664\n",
      "1.015708784877577\n",
      "1.015559211055114\n",
      "1.0154105986506767\n",
      "1.0152629414845438\n",
      "1.0151162334167152\n",
      "1.0149704683466556\n",
      "1.0148256402130442\n",
      "1.014681742993519\n",
      "1.0145387707044302\n",
      "1.0143967174005863\n",
      "1.014255577175012\n",
      "1.0141153441586996\n",
      "1.013976012520366\n",
      "1.013837576466209\n",
      "1.0137000302396686\n",
      "1.0135633681211855\n",
      "1.0134275844279643\n",
      "1.0132926735137378\n",
      "1.0131586297685293\n",
      "1.0130254476184242\n",
      "1.0128931215253323\n",
      "1.0127616459867645\n",
      "1.0126310155355958\n",
      "1.012501224739846\n",
      "1.0123722682024485\n",
      "1.012244140561028\n",
      "1.0121168364876751\n",
      "1.0119903506887302\n",
      "1.0118646779045575\n",
      "1.0117398129093282\n",
      "1.0116157505108045\n",
      "1.0114924855501246\n",
      "1.011370012901583\n",
      "1.0112483274724224\n",
      "1.0111274242026211\n",
      "1.0110072980646807\n",
      "1.010887944063419\n",
      "1.01076935723576\n",
      "1.0106515326505299\n",
      "1.0105344654082513\n",
      "1.0104181506409389\n",
      "1.0103025835118968\n",
      "1.0101877592155197\n",
      "1.0100736729770898\n",
      "1.0099603200525804\n",
      "1.0098476957284575\n",
      "1.0097357953214863\n",
      "1.0096246141785317\n",
      "1.0095141476763692\n",
      "1.0094043912214914\n",
      "1.0092953402499152\n",
      "1.0091869902269954\n",
      "1.0090793366472328\n",
      "1.0089723750340893\n",
      "1.0088661009397988\n",
      "1.0087605099451864\n",
      "1.0086555976594818\n",
      "1.0085513597201363\n",
      "1.0084477917926433\n",
      "1.0083448895703568\n",
      "1.0082426487743137\n",
      "1.0081410651530534\n",
      "1.0080401344824432\n",
      "1.0079398525655023\n",
      "1.0078402152322254\n",
      "1.0077412183394134\n",
      "1.007642857770496\n",
      "1.0075451294353641\n",
      "1.0074480292701993\n",
      "1.0073515532373023\n",
      "1.0072556973249294\n",
      "1.007160457547121\n",
      "1.0070658299435402\n",
      "1.0069718105793046\n",
      "1.0068783955448248\n",
      "1.0067855809556407\n",
      "1.0066933629522605\n",
      "1.0066017377000005\n",
      "1.0065107013888241\n",
      "1.0064202502331863\n",
      "1.0063303804718735\n",
      "1.0062410883678472\n",
      "1.0061523702080921\n",
      "1.0060642223034555\n",
      "1.0059766409885014\n",
      "1.005889622621352\n",
      "1.005803163583538\n",
      "1.0057172602798499\n",
      "1.0056319091381865\n",
      "1.0055471066094073\n",
      "1.0054628491671844\n",
      "1.0053791333078568\n",
      "1.0052959555502827\n",
      "1.005213312435698\n",
      "1.005131200527569\n",
      "1.0050496164114515\n",
      "1.004968556694848\n",
      "1.0048880180070687\n",
      "1.004807996999087\n",
      "1.004728490343405\n",
      "1.004649494733912\n",
      "1.0045710068857485\n",
      "1.0044930235351688\n",
      "1.004415541439406\n",
      "1.0043385573765367\n",
      "1.0042620681453467\n",
      "1.0041860705651988\n",
      "1.0041105614758994\n",
      "1.0040355377375685\n",
      "1.003960996230508\n",
      "1.0038869338550722\n",
      "1.003813347531539\n",
      "1.0037402341999828\n",
      "1.003667590820145\n",
      "1.0035954143713088\n",
      "1.0035237018521759\n",
      "1.0034524502807372\n",
      "1.0033816566941516\n",
      "1.0033113181486237\n",
      "1.0032414317192775\n",
      "1.00317199450004\n",
      "1.0031030036035147\n",
      "1.003034456160868\n",
      "1.0029663493217025\n",
      "1.0028986802539455\n",
      "1.0028314461437262\n",
      "1.0027646441952611\n",
      "1.0026982716307382\n",
      "1.0026323256901981\n",
      "1.0025668036314244\n",
      "1.0025017027298246\n",
      "1.0024370202783206\n",
      "1.0023727535872335\n",
      "1.002308899984174\n",
      "1.0022454568139298\n",
      "1.0021824214383552\n",
      "1.0021197912362618\n",
      "1.0020575636033096\n",
      "1.0019957359518985\n",
      "1.001934305711061\n",
      "1.001873270326355\n",
      "1.0018126272597572\n",
      "1.0017523739895584\n",
      "1.0016925080102583\n",
      "1.001633026832461\n",
      "1.0015739279827713\n",
      "1.0015152090036936\n",
      "1.0014568674535267\n",
      "1.0013989009062654\n",
      "1.0013413069514971\n",
      "1.001284083194304\n",
      "1.0012272272551603\n",
      "1.0011707367698366\n",
      "1.0011146093892995\n",
      "1.001058842779615\n",
      "1.0010034346218502\n",
      "1.0009483826119778\n",
      "1.0008936844607808\n",
      "1.0008393378937555\n",
      "1.0007853406510199\n",
      "1.0007316904872154\n",
      "1.0006783851714183\n",
      "1.0006254224870432\n",
      "1.0005728002317529\n",
      "1.0005205162173652\n",
      "1.0004685682697652\n",
      "1.0004169542288095\n",
      "1.0003656719482423\n",
      "1.0003147192956017\n",
      "1.0002640941521324\n",
      "1.0002137944126994\n",
      "1.0001638179856973\n",
      "1.0001141627929664\n",
      "1.0000648267697039\n",
      "1.0000158078643784\n",
      "0.9999671040386471\n",
      "0.9999187132672672\n",
      "0.9998706335380143\n",
      "0.999822862851598\n",
      "0.9997753992215793\n",
      "0.9997282406742863\n",
      "0.999681385248734\n",
      "0.9996348309965419\n",
      "0.9995885759818539\n",
      "0.9995426182812558\n",
      "0.999496955983697\n",
      "0.9994515871904117\n",
      "0.9994065100148363\n",
      "0.9993617225825361\n",
      "0.9993172230311235\n",
      "0.9992730095101814\n",
      "0.9992290801811881\n",
      "0.9991854332174378\n",
      "0.9991420668039678\n",
      "0.9990989791374792\n",
      "0.999056168426267\n",
      "0.9990136328901407\n",
      "0.9989713707603529\n",
      "0.9989293802795265\n",
      "0.9988876597015778\n",
      "0.9988462072916484\n",
      "0.9988050213260302\n",
      "0.9987641000920949\n",
      "0.9987234418882229\n",
      "0.9986830450237316\n",
      "0.9986429078188056\n",
      "0.998603028604427\n",
      "0.9985634057223056\n",
      "0.998524037524811\n",
      "0.9984849223749024\n",
      "0.9984460586460621\n",
      "0.9984074447222266\n",
      "0.9983690789977204\n",
      "0.9983309598771892\n",
      "0.9982930857755323\n",
      "0.998255455117838\n",
      "0.9982180663393179\n",
      "0.998180917885241\n",
      "0.9981440082108703\n",
      "0.9981073357813982\n",
      "0.9980708990718813\n",
      "0.9980346965671784\n",
      "0.9979987267618884\n",
      "0.9979629881602854\n",
      "0.9979274792762572\n",
      "0.9978921986332451\n",
      "0.9978571447641805\n",
      "0.9978223162114247\n",
      "0.9977877115267089\n",
      "0.9977533292710722\n",
      "0.9977191680148052\n",
      "0.9976852263373853\n",
      "0.9976515028274227\n",
      "0.9976179960825986\n",
      "0.9975847047096086\n",
      "0.9975516273241044\n",
      "0.9975187625506338\n",
      "0.9974861090225875\n",
      "0.9974536653821409\n",
      "0.9974214302801954\n",
      "0.9973894023763245\n",
      "0.9973575803387186\n",
      "0.9973259628441273\n",
      "0.9972945485778069\n",
      "0.9972633362334627\n",
      "0.9972323245131988\n",
      "0.9972015121274598\n",
      "0.9971708977949802\n",
      "0.9971404802427303\n",
      "0.9971102582058622\n",
      "0.997080230427659\n",
      "0.997050395659481\n",
      "0.9970207526607144\n",
      "0.9969913001987204\n",
      "0.9969620370487826\n",
      "0.9969329619940567\n",
      "0.9969040738255202\n",
      "0.9968753713419222\n",
      "0.9968468533497316\n",
      "0.9968185186630911\n",
      "0.9967903661037646\n",
      "0.996762394501089\n",
      "0.996734602691927\n",
      "0.9967069895206164\n",
      "0.9966795538389241\n",
      "0.9966522945059972\n",
      "0.996625210388316\n",
      "0.9965983003596467\n",
      "0.996571563300995\n",
      "0.9965449981005581\n",
      "0.9965186036536801\n",
      "0.9964923788628063\n",
      "0.996466322637436\n",
      "0.9964404338940781\n",
      "0.9964147115562058\n",
      "0.9963891545542113\n",
      "0.9963637618253631\n",
      "0.9963385323137602\n",
      "0.9963134649702882\n",
      "0.9962885587525767\n",
      "0.996263812624955\n",
      "0.9962392255584092\n",
      "0.9962147965305406\n",
      "0.9961905245255207\n",
      "0.996166408534052\n",
      "0.9961424475533233\n",
      "0.9961186405869696\n",
      "0.99609498664503\n",
      "0.9960714847439078\n",
      "0.9960481339063272\n",
      "0.9960249331612953\n",
      "0.9960018815440592\n",
      "0.995978978096068\n",
      "0.9959562218649318\n",
      "0.995933611904383\n",
      "0.9959111472742355\n",
      "0.9958888270403463\n",
      "0.9958666502745784\n",
      "0.9958446160547584\n",
      "0.9958227234646421\n",
      "0.9958009715938734\n",
      "0.9957793595379489\n",
      "0.9957578863981787\n",
      "0.9957365512816488\n",
      "0.9957153533011847\n",
      "0.9956942915753156\n",
      "0.9956733652282347\n",
      "0.9956525733897666\n",
      "0.9956319151953275\n",
      "0.9956113897858918\n",
      "0.995590996307955\n",
      "0.9955707339134997\n",
      "0.9955506017599576\n",
      "0.9955305990101775\n",
      "0.9955107248323887\n",
      "0.995490978400167\n",
      "0.9954713588924001\n",
      "0.9954518654932539\n",
      "0.995432497392138\n",
      "0.9954132537836726\n",
      "0.9953941338676532\n",
      "0.9953751368490209\n",
      "0.9953562619378263\n",
      "0.9953375083491965\n",
      "0.9953188753033058\n",
      "0.9953003620253387\n",
      "0.9952819677454614\n",
      "0.9952636916987881\n",
      "0.9952455331253492\n",
      "0.9952274912700604\n",
      "0.9952095653826902\n",
      "0.9951917547178303\n",
      "0.9951740585348625\n",
      "0.9951564760979299\n",
      "0.9951390066759057\n",
      "0.9951216495423618\n",
      "0.9951044039755402\n",
      "0.9950872692583212\n",
      "0.9950702446781956\n",
      "0.9950533295272325\n",
      "0.9950365231020534\n",
      "0.9950198247037996\n",
      "0.9950032336381041\n",
      "0.994986749215064\n",
      "0.9949703707492118\n",
      "0.994954097559483\n",
      "0.9949379289691934\n",
      "0.9949218643060075\n",
      "0.9949059029019116\n",
      "0.9948900440931855\n",
      "0.9948742872203756\n",
      "0.9948586316282657\n",
      "0.9948430766658535\n",
      "0.9948276216863191\n",
      "0.9948122660470013\n",
      "0.9947970091093695\n",
      "0.9947818502389975\n",
      "0.994766788805536\n",
      "0.9947518241826887\n",
      "0.9947369557481849\n",
      "0.9947221828837529\n",
      "0.9947075049750953\n",
      "0.9946929214118637\n",
      "0.994678431587632\n",
      "0.9946640348998731\n",
      "0.9946497307499313\n",
      "0.9946355185430014\n",
      "0.9946213976880984\n",
      "0.9946073675980385\n",
      "0.9945934276894097\n",
      "0.9945795773825528\n",
      "0.9945658161015326\n",
      "0.9945521432741158\n",
      "0.9945385583317488\n",
      "0.9945250607095301\n",
      "0.9945116498461918\n",
      "0.9944983251840722\n",
      "0.9944850861690938\n",
      "0.9944719322507416\n",
      "0.9944588628820387\n",
      "0.9944458775195241\n",
      "0.9944329756232296\n",
      "0.9944201566566576\n",
      "0.9944074200867606\n",
      "0.9943947653839151\n",
      "0.9943821920219037\n",
      "0.99436969947789\n",
      "0.9943572872323994\n",
      "0.9943449547692955\n",
      "0.9943327015757597\n",
      "0.9943205271422698\n",
      "0.9943084309625791\n",
      "0.9942964125336942\n",
      "0.9942844713558547\n",
      "0.9942726069325132\n",
      "0.9942608187703128\n",
      "0.9942491063790696\n",
      "0.9942374692717486\n",
      "0.994225906964447\n",
      "0.994214418976371\n",
      "0.9942030048298175\n",
      "0.9941916640501547\n",
      "0.9941803961658005\n",
      "0.9941692007082052\n",
      "0.99415807721183\n",
      "0.9941470252141282\n",
      "0.9941360442555269\n",
      "0.9941251338794074\n",
      "0.994114293632085\n",
      "0.9941035230627917\n",
      "0.9940928217236571\n",
      "0.9940821891696899\n",
      "0.9940716249587576\n",
      "0.9940611286515716\n",
      "0.9940506998116652\n",
      "0.994040338005378\n",
      "0.9940300428018373\n",
      "0.9940198137729395\n",
      "0.9940096504933317\n",
      "0.9939995525403983\n",
      "0.9939895194942361\n",
      "0.9939795509376433\n",
      "0.9939696464561004\n",
      "0.9939598056377495\n",
      "0.9939500280733827\n",
      "0.9939403133564213\n",
      "0.9939306610828996\n",
      "0.9939210708514494\n",
      "0.9939115422632814\n",
      "0.9939020749221709\n",
      "0.9938926684344385\n",
      "0.9938833224089357\n",
      "0.9938740364570294\n",
      "0.9938648101925831\n",
      "0.993855643231943\n",
      "0.9938465351939206\n",
      "0.9938374856997784\n",
      "0.993828494373213\n",
      "0.9938195608403396\n",
      "0.9938106847296769\n",
      "0.993801865672131\n",
      "0.9937931033009813\n",
      "0.9937843972518628\n",
      "0.9937757471627546\n",
      "0.9937671526739607\n",
      "0.9937586134280986\n",
      "0.9937501290700819\n",
      "0.9937416992471079\n",
      "0.9937333236086406\n",
      "0.9937250018063969\n",
      "0.9937167334943335\n",
      "0.9937085183286299\n",
      "0.9937003559676776\n",
      "0.9936922460720615\n",
      "0.9936841883045499\n",
      "0.9936761823300782\n",
      "0.9936682278157356\n",
      "0.9936603244307501\n",
      "0.9936524718464779\n",
      "0.9936446697363854\n",
      "0.9936369177760398\n",
      "0.9936292156430925\n",
      "0.9936215630172667\n",
      "0.9936139595803453\n",
      "0.9936064050161556\n",
      "0.9935988990105581\n",
      "0.9935914412514308\n",
      "0.9935840314286604\n",
      "0.9935766692341251\n",
      "0.9935693543616843\n",
      "0.9935620865071644\n",
      "0.993554865368348\n",
      "0.9935476906449605\n",
      "0.9935405620386559\n",
      "0.9935334792530065\n",
      "0.9935264419934908\n",
      "0.9935194499674793\n",
      "0.9935125028842241\n",
      "0.9935056004548458\n",
      "0.993498742392322\n",
      "0.9934919284114758\n",
      "0.9934851582289619\n",
      "[[4.02181364]] [[6.16203122]]\n"
     ]
    }
   ],
   "source": [
    "def get_cost(y, y_pred):\n",
    "    N = len(y)\n",
    "    cost = np.sum(np.square(y - y_pred)) / N\n",
    "    return cost\n",
    "\n",
    "def get_weight_updates(w1, w0, X, y, learning_rate = 0.01):\n",
    "    N = len(y)\n",
    "    y_pred = np.dot(X, w1) + w0\n",
    "    print(get_cost(y, y_pred))\n",
    "    diff = y_pred - y\n",
    "    ones = np.ones((N, 1))\n",
    "    w1_update = learning_rate * 2 * np.dot(X.T, diff) / N\n",
    "    w0_update = learning_rate * 2 * np.dot(ones.T, diff) / N\n",
    "    return w1_update, w0_update\n",
    "\n",
    "def gradient_descent_steps(X, y, iters = 10000):\n",
    "    w0 = 0\n",
    "    w1 = 0\n",
    "    for _ in range(iters):\n",
    "        w1_update, w0_update = get_weight_updates(w1, w0, X, y)\n",
    "        w1 = w1 - w1_update\n",
    "        w0 = w0 - w0_update\n",
    "    return w1, w0\n",
    "\n",
    "w1, w0 = gradient_descent_steps(X, y, 1000)\n",
    "print(w1, w0)"
   ]
  },
  {
   "cell_type": "markdown",
   "metadata": {},
   "source": [
    "![Alt text](image-63.png)"
   ]
  },
  {
   "cell_type": "code",
   "execution_count": 121,
   "metadata": {},
   "outputs": [
    {
     "data": {
      "text/plain": [
       "[<matplotlib.lines.Line2D at 0x28a6837ab10>]"
      ]
     },
     "execution_count": 121,
     "metadata": {},
     "output_type": "execute_result"
    },
    {
     "data": {
      "image/png": "[encoded data removed]",
      "text/plain": [
       "<Figure size 640x480 with 1 Axes>"
      ]
     },
     "metadata": {},
     "output_type": "display_data"
    }
   ],
   "source": [
    "y_pred = w1 * X + w0\n",
    "plt.scatter(X, y)\n",
    "plt.plot(X, y_pred, c = 'red')\n",
    "\n",
    "# 모든 학습 데이터에 대해 계산\n",
    "# -> 시간이 오래 걸림"
   ]
  },
  {
   "cell_type": "code",
   "execution_count": 122,
   "metadata": {},
   "outputs": [],
   "source": [
    "# 다중 선형 회귀\n",
    "\n",
    "# 독립 변수가 여러 개인 경우\n",
    "# - 독립 변수 m개 -> 회귀 계수 (m +1)개"
   ]
  },
  {
   "cell_type": "markdown",
   "metadata": {},
   "source": [
    "![Alt text](image-64.png)"
   ]
  },
  {
   "cell_type": "code",
   "execution_count": 123,
   "metadata": {},
   "outputs": [],
   "source": [
    "# 사이킷런을 이용한 보스턴 주택 가격 예측\n",
    "\n",
    "# LinearRegression 클래스\n",
    "# - fit_intercept : 기본 값 True\n",
    "#                   y절편을 구할지 여부, False 이면 y절편을 0으로 지정\n",
    "# - normalize : 기본 값 False\n",
    "#               True 이면 회귀를 수행하기 전에 입력 데이터 정규화\n",
    "\n",
    "# fit 함수 호출 후 결과\n",
    "# - coef : 기울기 (종속 변수 개수 X, 독립 변수 개수의 행렬)\n",
    "# - intercept_ : 절편 값"
   ]
  },
  {
   "cell_type": "code",
   "execution_count": 124,
   "metadata": {},
   "outputs": [],
   "source": [
    "# 회귀 평가 지표"
   ]
  },
  {
   "cell_type": "markdown",
   "metadata": {},
   "source": [
    "![Alt text](image-65.png)"
   ]
  },
  {
   "cell_type": "code",
   "execution_count": 125,
   "metadata": {},
   "outputs": [],
   "source": [
    "# 사이킷런 평가 지표 API 및 scoring 파라미터"
   ]
  },
  {
   "cell_type": "markdown",
   "metadata": {},
   "source": [
    "![Alt text](image-66.png)"
   ]
  },
  {
   "cell_type": "code",
   "execution_count": 126,
   "metadata": {},
   "outputs": [],
   "source": [
    "# 보스턴 주택 거격 데이터 세트\n",
    "# - CRI : 지역별 범죄 발생률\n",
    "# ZN : 25,000평방피트를 초과하는 거주 지역의 비율\n",
    "# INDUS : 비상업 지역 넓이 비율\n",
    "# CHAS : 찰스강 경계에 위치한 경우는 1, 아니면 0\n",
    "# NOX : 일산화질소 농도\n",
    "# RM : 거주할 수 있는 방 개수\n",
    "# AGE : 1940년 이전에 건축된 소유 주택의 비율\n",
    "# DIS : 5개 주요 고용센터까지의 가중 거리\n",
    "# RAD : 고속도로 접근 용이도\n",
    "# TAX : 10,000달러당 재산세율\n",
    "# PTRATIO : 지역의 교사와 학생 수 비율\n",
    "# B : 지역의 흑인 거주 비율\n",
    "# LSTAT : 하위 계층의 비율\n",
    "# MEDV : 본인 소유의 주택 가격 (중간값)"
   ]
  },
  {
   "cell_type": "code",
   "execution_count": 127,
   "metadata": {},
   "outputs": [],
   "source": [
    "# 사이킷런에서 load_boston 데이터셋이 사라짐 ㅋㅋ\n",
    "\n",
    "import numpy as np\n",
    "import matplotlib.pyplot as plt\n",
    "import pandas as pd\n",
    "from sklearn.model_selection import train_test_split\n",
    "from sklearn.model_selection import cross_val_score\n",
    "from sklearn.linear_model import LinearRegression\n",
    "from sklearn.metrics import mean_squared_error, r2_score"
   ]
  },
  {
   "cell_type": "markdown",
   "metadata": {},
   "source": [
    "![Alt text](image-67.png)"
   ]
  },
  {
   "cell_type": "markdown",
   "metadata": {},
   "source": [
    "![Alt text](image-68.png)"
   ]
  },
  {
   "cell_type": "markdown",
   "metadata": {},
   "source": [
    "![Alt text](image-69.png)"
   ]
  },
  {
   "cell_type": "code",
   "execution_count": 128,
   "metadata": {},
   "outputs": [],
   "source": [
    "# plt.subplot(nrows = 1, ncols = 1, index = 1)\n",
    "# plt.subplots(nrows = 1, ncols = 1, sharex = False, sharey = False, ...)\n",
    "# -> 반환값 : fig, axs"
   ]
  },
  {
   "cell_type": "markdown",
   "metadata": {},
   "source": [
    "![Alt text](image-70.png)"
   ]
  },
  {
   "cell_type": "markdown",
   "metadata": {},
   "source": [
    "![Alt text](image-71.png)"
   ]
  },
  {
   "cell_type": "markdown",
   "metadata": {},
   "source": [
    "![Alt text](image-72.png)"
   ]
  },
  {
   "cell_type": "markdown",
   "metadata": {},
   "source": [
    "![Alt text](image-73.png)"
   ]
  },
  {
   "cell_type": "markdown",
   "metadata": {},
   "source": [
    "![Alt text](image-74.png)"
   ]
  },
  {
   "cell_type": "code",
   "execution_count": 129,
   "metadata": {},
   "outputs": [],
   "source": [
    "# 다항 회귀\n",
    "\n",
    "# 직선이 아니라 2차, 3차, ... 다항식으로 표현\n",
    "# 선형 회귀이므로 사이킷런에서 따로 클래스를 제공하지는 않음\n",
    "# -> PolynomialFeatures 클래스를 통해 피처 변환"
   ]
  },
  {
   "cell_type": "markdown",
   "metadata": {},
   "source": [
    "![Alt text](image-75.png)"
   ]
  },
  {
   "cell_type": "code",
   "execution_count": 130,
   "metadata": {},
   "outputs": [
    {
     "name": "stdout",
     "output_type": "stream",
     "text": [
      "[[0 1]\n",
      " [2 3]]\n",
      "[[1. 0. 1. 0. 0. 1.]\n",
      " [1. 2. 3. 4. 6. 9.]]\n"
     ]
    }
   ],
   "source": [
    "from sklearn.preprocessing import PolynomialFeatures\n",
    "\n",
    "X = np.arange(4).reshape(2, 2)\n",
    "print(X)\n",
    "\n",
    "poly = PolynomialFeatures(degree = 2)\n",
    "poly.fit(X)\n",
    "poly_features = poly.transform(X)\n",
    "print(poly_features)"
   ]
  },
  {
   "cell_type": "markdown",
   "metadata": {},
   "source": [
    "![Alt text](image-76.png)"
   ]
  },
  {
   "cell_type": "code",
   "execution_count": 131,
   "metadata": {},
   "outputs": [
    {
     "name": "stdout",
     "output_type": "stream",
     "text": [
      "[[0 1]\n",
      " [2 3]]\n",
      "[  5 125]\n"
     ]
    }
   ],
   "source": [
    "X = np.arange(4).reshape(2, 2)\n",
    "y = 1 + 2 * X[:, 0] + 3 * X[:, 0]**2 + 4 * X[:, 1]**3\n",
    "print(X)\n",
    "print(y)"
   ]
  },
  {
   "cell_type": "markdown",
   "metadata": {},
   "source": [
    "![Alt text](image-77.png)"
   ]
  },
  {
   "cell_type": "code",
   "execution_count": 132,
   "metadata": {},
   "outputs": [
    {
     "name": "stdout",
     "output_type": "stream",
     "text": [
      "[[ 1.  0.  1.  0.  0.  1.  0.  0.  0.  1.]\n",
      " [ 1.  2.  3.  4.  6.  9.  8. 12. 18. 27.]]\n"
     ]
    }
   ],
   "source": [
    "poly = PolynomialFeatures(degree = 3)\n",
    "poly_features = poly.fit_transform(X)\n",
    "print(poly_features)"
   ]
  },
  {
   "cell_type": "markdown",
   "metadata": {},
   "source": [
    "![Alt text](image-78.png)"
   ]
  },
  {
   "cell_type": "code",
   "execution_count": 134,
   "metadata": {},
   "outputs": [
    {
     "name": "stdout",
     "output_type": "stream",
     "text": [
      "1.7567567567567792\n",
      "[0.         0.18018018 0.18018018 0.36036036 0.54054054 0.72072072\n",
      " 0.72072072 1.08108108 1.62162162 2.34234234]\n"
     ]
    }
   ],
   "source": [
    "lr = LinearRegression()\n",
    "lr.fit(poly_features, y)\n",
    "print(lr.intercept_)\n",
    "print(lr.coef_)"
   ]
  },
  {
   "cell_type": "code",
   "execution_count": 135,
   "metadata": {},
   "outputs": [
    {
     "data": {
      "image/png": "[encoded data removed]",
      "text/plain": [
       "<Figure size 2400x800 with 3 Axes>"
      ]
     },
     "metadata": {},
     "output_type": "display_data"
    }
   ],
   "source": [
    "# 다항 회귀 과적합\n",
    "\n",
    "# 다항식 차수가 높을수록\n",
    "# - 매우 복잡한 피처 간의 관계까지 모델링 가능\n",
    "# - 과적합 문제 발생\n",
    "\n",
    "def fn(X):\n",
    "    return np.cos(1.5 * np.pi * X)\n",
    "\n",
    "n_samples = 30\n",
    "X = np.sort(np.random.rand(n_samples))      # 0 ~ 1 균일분포\n",
    "y = fn(X) + np.random.randn(n_samples) *0.1 # 표준정규분포 N(0, 1)\n",
    "\n",
    "X = X.reshape(-1, 1)\n",
    "X_test = np.linspace(0, 1, 100).reshape(-1, 1)\n",
    "y_test = fn(X_test)\n",
    "fig, axs = plt.subplots(1, 3, figsize = (24, 8))\n",
    "degrees = [1, 4, 15]\n",
    "for i, degree in enumerate(degrees):\n",
    "    poly = PolynomialFeatures(degree = degree, include_bias = False)\n",
    "    poly_features = poly.fit_transform(X)\n",
    "    lr = LinearRegression()\n",
    "    lr.fit(poly_features, y)\n",
    "    \n",
    "    poly_X_test = poly.transform(X_test)\n",
    "    y_hat = lr.predict(poly_X_test)\n",
    "    axs[i].scatter(X, y)\n",
    "    axs[i].plot(X_test, y_test, 'r--')\n",
    "    axs[i].plot(X_test, y_hat, 'g')\n",
    "    axs[i].set_xlim(0, 1)\n",
    "    axs[i].set_ylim(-2, 2)"
   ]
  },
  {
   "cell_type": "code",
   "execution_count": null,
   "metadata": {},
   "outputs": [],
   "source": [
    "# 편향-분산 트레이드오프"
   ]
  },
  {
   "cell_type": "markdown",
   "metadata": {},
   "source": [
    "![Alt text](image-79.png)"
   ]
  },
  {
   "cell_type": "code",
   "execution_count": null,
   "metadata": {},
   "outputs": [],
   "source": [
    "# 일반저긍로 편향과 분산은 한 쪽이 높으면 한 쪽이 낮아지는 경향이 있음\n",
    "# - 분산이 낮으면 편향이 높아짐 -> 과소적합 (Underfitting)\n",
    "# - 편향이 낮으면 분산이 높아짐 -> 과대적합 (Overfitting)"
   ]
  },
  {
   "cell_type": "markdown",
   "metadata": {},
   "source": [
    "![Alt text](image-80.png)"
   ]
  },
  {
   "cell_type": "code",
   "execution_count": null,
   "metadata": {},
   "outputs": [],
   "source": [
    "# 부분집합 선택\n",
    "\n",
    "# 최소제곱추정에 만족하지 못하는 이유\n",
    "# - 예측 정확도 (Prediction Accuracy) : 작은 편향, 큰 분산\n",
    "#   -> 몇몇 계수를 수축 또는 0으로 하여 개선\n",
    "# - 해석 : 가장 강한 효과를 보이는 더 작은 부분집합을 정하려 함"
   ]
  },
  {
   "cell_type": "code",
   "execution_count": null,
   "metadata": {},
   "outputs": [],
   "source": [
    "# 최량 부분집합 선택\n",
    "# - 각 𝑘 ∈ {0, 1, 2, ⋯, 𝑝} 에 관해 가장 작은 잔차제곱합을 주는 크기 k의 부분집합\n",
    "# - 통상적으로 기대예측오차의 기댓값을 최소화하는 가장 작은 모델을 선택"
   ]
  },
  {
   "cell_type": "markdown",
   "metadata": {},
   "source": [
    "![Alt text](image-81.png)"
   ]
  },
  {
   "cell_type": "code",
   "execution_count": null,
   "metadata": {},
   "outputs": [],
   "source": [
    "# 전진 스텝별 선택 (Forward-Stepwise Selection)\n",
    "# - 절편에서부터 시작\n",
    "# - 순차적으로 적합을 가장 개선시키는 독립변수를 모델에 추가\n",
    "\n",
    "# 후진 스텝별 선택 (Backward-Stepwise Selection)\n",
    "# - 완전 모델로부터 시작\n",
    "# - 가장 영향이 적은 독립변수를 삭제\n",
    "\n",
    "# 전진 스테이지별 회귀\n",
    "# - 절편을 y_bar, 계수는 모두 0\n",
    "# - 현재 잔차와 가장 상관성이 있는 변수\n",
    "#   -> 선택된 변수에 대해 잔차의 선형회귀계수 계산\n",
    "#   -> 그 변수의 현재 계수에 더한다\n",
    "# - 잔차와 상관성이 있는 변수가 없을 때까지 반복"
   ]
  },
  {
   "cell_type": "markdown",
   "metadata": {},
   "source": [
    "![Alt text](image-82.png)"
   ]
  },
  {
   "cell_type": "code",
   "execution_count": null,
   "metadata": {},
   "outputs": [],
   "source": [
    "# 수축법\n",
    "\n",
    "# 차수가 작다 -> 데이터에 적합하지 않다 -> 과소적합\n",
    "# 차수가 크다 -> 지나치게 데이터에 맞춘다 -> 과대적합\n",
    "# 데이터에 적절하게 적합하면서 회귀계수가 커지는 것을 방지"
   ]
  },
  {
   "cell_type": "markdown",
   "metadata": {},
   "source": [
    "![Alt text](image-83.png)"
   ]
  },
  {
   "cell_type": "markdown",
   "metadata": {},
   "source": [
    "![Alt text](image-84.png)"
   ]
  },
  {
   "cell_type": "code",
   "execution_count": null,
   "metadata": {},
   "outputs": [],
   "source": [
    "# RSS 최소화 (실제 값과 예측 값의 차이를 최소화)\n",
    "# -> RSS 최소화 + 과적합 방지 (회귀계수 크기 제어)\n",
    "\n",
    "# 규제 (Regularization) : 𝜆 값으로 패널티 부여하여 회귀계수 값의 크기 감소 -> 과적합 개선\n",
    "#                         - 릿지 (Ridge) : L2 규제 ‖∙‖_2\n",
    "#                         - 라쏘 (Lasso) : L1 규제 ‖∙‖_1"
   ]
  },
  {
   "cell_type": "markdown",
   "metadata": {},
   "source": [
    "![Alt text](image-85.png)"
   ]
  },
  {
   "cell_type": "code",
   "execution_count": null,
   "metadata": {},
   "outputs": [],
   "source": [
    "# 릿지 (Ridge) 회귀\n",
    "\n",
    "# 계수의 크기에 벌점을 가해 회귀계수를 수축\n",
    "# 벌점 잔차제곱합을 최소화"
   ]
  },
  {
   "cell_type": "markdown",
   "metadata": {},
   "source": [
    "![Alt text](image-86.png)"
   ]
  },
  {
   "cell_type": "code",
   "execution_count": null,
   "metadata": {},
   "outputs": [],
   "source": [
    "# 𝜆 값이 클수록 수축되는 양이 커진다\n",
    "# 입력을 표준화한 후 적용\n",
    "# 절편 𝛽0 는 벌점항에 포함되지 않음 : 절편의 벌점화는 원점에 의존하게 만든다"
   ]
  },
  {
   "cell_type": "code",
   "execution_count": null,
   "metadata": {},
   "outputs": [],
   "source": [
    "# 다른 표현"
   ]
  },
  {
   "cell_type": "markdown",
   "metadata": {},
   "source": [
    "![Alt text](image-87.png)"
   ]
  },
  {
   "cell_type": "code",
   "execution_count": null,
   "metadata": {},
   "outputs": [],
   "source": [
    "# 행렬 표현"
   ]
  },
  {
   "cell_type": "markdown",
   "metadata": {},
   "source": [
    "![Alt text](image-88.png)"
   ]
  },
  {
   "cell_type": "code",
   "execution_count": null,
   "metadata": {},
   "outputs": [],
   "source": [
    "# 불필요한 회귀 계수가 급격하게 작아져서 0이 되는 특성이 있음"
   ]
  },
  {
   "cell_type": "markdown",
   "metadata": {},
   "source": [
    "![Alt text](image-89.png)"
   ]
  },
  {
   "cell_type": "code",
   "execution_count": null,
   "metadata": {},
   "outputs": [],
   "source": [
    "# 역시나 load_boston 이 없음 ㅋㅋ"
   ]
  },
  {
   "cell_type": "markdown",
   "metadata": {},
   "source": [
    "![Alt text](image-90.png)"
   ]
  },
  {
   "cell_type": "markdown",
   "metadata": {},
   "source": [
    "![Alt text](image-91.png)"
   ]
  },
  {
   "cell_type": "markdown",
   "metadata": {},
   "source": [
    "![Alt text](image-92.png)"
   ]
  },
  {
   "cell_type": "markdown",
   "metadata": {},
   "source": [
    "![Alt text](image-93.png)"
   ]
  },
  {
   "cell_type": "markdown",
   "metadata": {},
   "source": [
    "![Alt text](image-94.png)"
   ]
  },
  {
   "cell_type": "markdown",
   "metadata": {},
   "source": [
    "![Alt text](image-95.png)"
   ]
  },
  {
   "cell_type": "markdown",
   "metadata": {},
   "source": [
    "# 릿지, 라쏘\n",
    "![Alt text](image-96.png)\n",
    "![Alt text](image-97.png)\n",
    "![Alt text](image-98.png)"
   ]
  },
  {
   "cell_type": "markdown",
   "metadata": {},
   "source": [
    "# 릿지, 라쏘 일반화\n",
    "![Alt text](image-99.png)"
   ]
  },
  {
   "cell_type": "markdown",
   "metadata": {},
   "source": [
    "# 엘라스틱넷 (Elastic Net) 회귀\n",
    "### L2 규제와 L1 규제 결합\n",
    "![Alt text](image-100.png)\n",
    "### 장점\n",
    "- L1 규제에 따라 회귀 계수가 급격하게 변하는 것을 완화\n",
    "### 단점\n",
    "- 수행 시간이 상대적으로 오래 걸림\n",
    "### ElasticNet 클래스의 파라미터\n",
    "![Alt text](image-101.png)\n",
    "\n",
    "이것도 역시나 load_boston 이 없음 ㅋㅋ 아 ㅋㅋ\n",
    "![Alt text](image-102.png)\n",
    "![Alt text](image-103.png)"
   ]
  },
  {
   "cell_type": "markdown",
   "metadata": {},
   "source": [
    "# 선형 회귀 모델을 위한 데이터 변환\n",
    "\n",
    "### 피처 데이터 세트\n",
    "- StandardScaler 를 사용하여 평균 0, 분산 1의 표준 정규분포로 변환\n",
    "  또는 MinMaxScaler 를 사용하여 최소 0, 최대 1로 정규화\n",
    "- 다항식 변환 추가 적용\n",
    "- 로그 변환\n",
    "\n",
    "### 타겟 데이터 세트\n",
    "- 로그 변환\n",
    "\n",
    "![Alt text](image-104.png)\n",
    "![Alt text](image-105.png)"
   ]
  },
  {
   "cell_type": "markdown",
   "metadata": {},
   "source": [
    "# 로지스틱 회귀 (Logistic Regression)\n",
    "![Alt text](image-106.png)\n",
    "\n",
    "### 장점\n",
    "- 가볍고 빠르고 성능이 뛰어남\n",
    "\n",
    "![Alt text](image-107.png)\n",
    "\n",
    "### Logistic Regression 클래스 파라미터\n",
    "- penalty : 규제의 유형, 'l2', 'l1'\n",
    "- C : 알파의 역수\n",
    "![Alt text](image-110.png)\n",
    "\n"
   ]
  }
 ],
 "metadata": {
  "kernelspec": {
   "display_name": "Python 3",
   "language": "python",
   "name": "python3"
  },
  "language_info": {
   "codemirror_mode": {
    "name": "ipython",
    "version": 3
   },
   "file_extension": ".py",
   "mimetype": "text/x-python",
   "name": "python",
   "nbconvert_exporter": "python",
   "pygments_lexer": "ipython3",
   "version": "3.11.5"
  },
  "orig_nbformat": 4
 },
 "nbformat": 4,
 "nbformat_minor": 2
}
